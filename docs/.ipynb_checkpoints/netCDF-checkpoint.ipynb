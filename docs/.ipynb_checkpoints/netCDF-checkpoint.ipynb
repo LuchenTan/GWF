{
 "cells": [
  {
   "cell_type": "markdown",
   "metadata": {},
   "source": [
    "# NetCDF\n",
    "## 1. What is NetCDF?\n",
    "The Network Comman Data Form, or [NetCDF](https://www.unidata.ucar.edu/software/netcdf/docs/) is **a set of software libraries** \n",
    "and self-describing, machine-independant **data formats**. It supports the creation, access and sharing of scientific data. \n",
    "\n",
    "To make data \"self-describing\" and meaningful to both humans and machines, the names, units of measure and other metadata should be meaningful and conform to **Conventions**. "
   ]
  },
  {
   "cell_type": "markdown",
   "metadata": {},
   "source": [
    "## 2. How to install NetCDF?\n",
    "To install NetCDF is to install the base NetCDF libraries and associated tools. \n",
    "\n",
    "Setting up NetCDF on Ubuntu follows [here](https://skygiant.com.au/setting-up-netcdf-on-ubuntu/)."
   ]
  },
  {
   "cell_type": "code",
   "execution_count": null,
   "metadata": {},
   "outputs": [],
   "source": [
    "! sudo apt-get install libnetcdf-dev netcdf-bin\n",
    "! sudo apt-get install ncview"
   ]
  },
  {
   "cell_type": "markdown",
   "metadata": {},
   "source": [
    "To install Python's netCDF4 lib:"
   ]
  },
  {
   "cell_type": "code",
   "execution_count": null,
   "metadata": {},
   "outputs": [],
   "source": [
    "! pip install netCDF4"
   ]
  },
  {
   "cell_type": "markdown",
   "metadata": {},
   "source": [
    "## 3. How to open a NetCDF file?\n",
    "NetCDF files should have the file name extension \"**.nc**\". \n",
    "\n",
    "A classic netCDF format file should **not** be larger than **2GB**, except on platforms that have \"Large File Support\"(LFS). "
   ]
  },
  {
   "cell_type": "markdown",
   "metadata": {},
   "source": [
    "### Command line Tools\n",
    "* **[ncdump](https://www.unidata.ucar.edu/software/netcdf/docs/netcdf_utilities_guide.html#ncdump_guide)**\n",
    "The ncdump command is used to show the contents of netCDF files. It reads a netCDF file and outputs text. The output text is in a format called Common Data Language ([CDL](https://www.unidata.ucar.edu/software/netcdf/docs/netcdf_utilities_guide.html#cdl_guide)), describing netCDF objects and data. "
   ]
  },
  {
   "cell_type": "code",
   "execution_count": null,
   "metadata": {},
   "outputs": [],
   "source": [
    "! ncdump example.nc"
   ]
  },
  {
   "cell_type": "code",
   "execution_count": null,
   "metadata": {},
   "outputs": [],
   "source": [
    "! ncdump -h example.nc"
   ]
  },
  {
   "cell_type": "markdown",
   "metadata": {},
   "source": [
    "* **[ncview](http://meteora.ucsd.edu/~pierce/ncview_home_page.html)** is a visual browser for netCDF format files. "
   ]
  },
  {
   "cell_type": "code",
   "execution_count": null,
   "metadata": {},
   "outputs": [],
   "source": [
    "! ncview example.nc"
   ]
  },
  {
   "cell_type": "markdown",
   "metadata": {},
   "source": [
    "*Tips: when showing a netCDF file, if the coordinate systems are correctly identified, the values for x and y axes should change as the cursor moving on the plot.*"
   ]
  },
  {
   "cell_type": "markdown",
   "metadata": {},
   "source": [
    "### Other Viewer Tools\n",
    "* **[Panoply](https://www.giss.nasa.gov/tools/panoply/)** can output CDL descriptions as well as plot variable data. Download and installation [here](https://www.giss.nasa.gov/tools/panoply/download/). \n"
   ]
  },
  {
   "cell_type": "markdown",
   "metadata": {},
   "source": [
    "*Tips: if lon-lat coordinates are correctly identified, it can plot data on a global or regional map using lon/lat variable data.\n",
    "With a projection system, if the grid mapping variable is correctly described, it can plot data on the global map even without lon/lat variable data(Panoply will do the unprojection for you).*"
   ]
  },
  {
   "cell_type": "markdown",
   "metadata": {},
   "source": [
    "## 4. What can be seen in a NetCDF file (file structure and components)?\n",
    "A netCDF file comprises two parts: a header part and a data part:\n",
    "* **Header part**: contains all the information/metadata about **Dimensions**, **Attributes** and **Variables**. \n",
    "* **Data part**: fixed-size data (the data for variables without unlimited dimension); variable-size data (the data for variables with unlimited dimension)"
   ]
  },
  {
   "cell_type": "markdown",
   "metadata": {},
   "source": [
    "An example netCDF file read by ```ncdump```."
   ]
  },
  {
   "cell_type": "code",
   "execution_count": null,
   "metadata": {},
   "outputs": [],
   "source": [
    "netcdf sfc_pres_temp {\n",
    "dimensions:\n",
    "   latitude = 6 ;\n",
    "   longitude = 12 ;\n",
    "variables:\n",
    "   float latitude(latitude) ;\n",
    "       latitude:units = \"degrees_north\" ;\n",
    "   float longitude(longitude) ;\n",
    "       longitude:units = \"degrees_east\" ;\n",
    "   float pressure(latitude, longitude) ;\n",
    "       pressure:units = \"hPa\" ;\n",
    "data:\n",
    " latitude = 25, 30, 35, 40, 45, 50 ;\n",
    " longitude = -125, -120, -115, -110, -105, -100, -95, -90, -85, -80, -75, -70 ;\n",
    " pressure =\n",
    "  900, 906, 912, 918, 924, 930, 936, 942, 948, 954, 960, 966,\n",
    "  901, 907, 913, 919, 925, 931, 937, 943, 949, 955, 961, 967,\n",
    "  902, 908, 914, 920, 926, 932, 938, 944, 950, 956, 962, 968,\n",
    "  903, 909, 915, 921, 927, 933, 939, 945, 951, 957, 963, 969,\n",
    "  904, 910, 916, 922, 928, 934, 940, 946, 952, 958, 964, 970,\n",
    "  905, 911, 917, 923, 929, 935, 941, 947, 953, 959, 965, 971 ;\n",
    "}"
   ]
  },
  {
   "cell_type": "markdown",
   "metadata": {},
   "source": [
    "**In fact, data in netCDF files is a group of functions(called variables) with zero to multiple dimensions. Each variable has some meta data to self-describe the meaning of this variable, the meta data is called attributes. **"
   ]
  },
  {
   "cell_type": "markdown",
   "metadata": {},
   "source": [
    "#### **NAMING:** \n",
    "``alphanumeric_seperated_by_underscores```. Starting from letter, **no** hyphon(-), case sensitive, ```_reserved``` for system names. "
   ]
  },
  {
   "cell_type": "markdown",
   "metadata": {},
   "source": [
    "**Import Python [netCDF4](http://unidata.github.io/netcdf4-python/) module** and **Create an example .nc file**"
   ]
  },
  {
   "cell_type": "code",
   "execution_count": 23,
   "metadata": {},
   "outputs": [],
   "source": [
    "import netCDF4\n",
    "path = \"example.nc\"\n",
    "exp_nc = netCDF4.Dataset(path, 'w')"
   ]
  },
  {
   "cell_type": "markdown",
   "metadata": {},
   "source": [
    "### Dimensions\n",
    "A dimension represents a quantity. It can be a physical spatiotemporal dimension: date or time (T), height or depth (Z), latitude (Y), longitude (X); or other user-defined quantities. \n",
    "\n",
    "Each dimension has a **name** and a **length**. There are not standard dimension names. Dimensions should be named meaningful. The dimmensions must all have different names.\n",
    "Dimension length is an arbitrary positive integer or UNLIMITED. \n",
    "\n",
    "The length of the dimension indicates the number of points of this dimension. UNLIMITED length means the dimension can grow to any length. It is usually used as an index for appending more records. For example, time dimension is always defined as UNLIMITED. \n",
    "\n",
    "If any information, description, meaning of the dimension needs to be attached, a variable using the same name as the dimension with only this single dimension should be used. This variable will have the same size of the dimension. Then all the attributes of this variable can be used to describe the single-valued quantity. The actual values of the dimension are also stored as the data of this variable (i.e. a 1D array). \n",
    "\n",
    "A netCDF file allows any number of dimensions, and any number of UNLIMITED dimensions, but the old convention strongly recommends limiting the total number of dimensions to **four**, the number of UNLIMITED dimension to up to **one**. \n",
    "\n",
    "Dimensions can be renamed after creation. "
   ]
  },
  {
   "cell_type": "markdown",
   "metadata": {},
   "source": [
    "**For example:** In the netCDF above: \n",
    "\n",
    "```latitude``` and ```longitude``` are both dimensions and variables. The dimension ```latitude``` has a name \"latitude\" and a length \"6\". The variable ```latitude``` has the same name as the dimension ```latitude``` and takes the single dimension ```latitude```. The variable ```latitude``` has an attribute: ```units```. The data of the variable ```latitude``` is a 1D array with size 6: ```latitude = 25, 30, 35, 40, 45, 50 ;```. "
   ]
  },
  {
   "cell_type": "code",
   "execution_count": 24,
   "metadata": {},
   "outputs": [],
   "source": [
    "lat = exp_nc.createDimension('latitude', 6)\n",
    "lon = exp_nc.createDimension('longitude', 12)\n",
    "time = exp_nc.createDimension('time', None)  # unlimited"
   ]
  },
  {
   "cell_type": "code",
   "execution_count": 31,
   "metadata": {},
   "outputs": [
    {
     "name": "stdout",
     "output_type": "stream",
     "text": [
      "odict_keys(['latitude', 'longitude', 'time'])\n",
      "True\n"
     ]
    }
   ],
   "source": [
    "print(exp_nc.dimensions.keys())\n",
    "print(time.isunlimited())"
   ]
  },
  {
   "cell_type": "markdown",
   "metadata": {},
   "source": [
    "There are several uses for netCDF dimensions[[cites]](http://www.bic.mni.mcgill.ca/users/sean/Docs/netcdf/guide.txn_12.html):\n",
    "* Specifying the shapes and sizes of variables.\n",
    "* Identifying and relating variables that are defined on a common grid.\n",
    "* Providing a way to define coordinate systems. "
   ]
  },
  {
   "cell_type": "markdown",
   "metadata": {},
   "source": [
    "### (Global) Attributes\n",
    "Global attributes are optional. There are some standard global attribute names. A file can also have non-standart attributes. Application programs will ignore the attributes that they do not recognize. \n",
    "\n",
    "Usually, the global attributes are description of the file contents/origin, such as where the data came from and what has been done to it. This information is mainly for the benefit of human readers. The attribute values are all strings. For pretty output of ```ncdump```, ```'\\n'``` is recommanded to be embedded to long strings. \n",
    "\n",
    "Standard global attribute names include: ```title```, ```institution```, ```source```, ```history```, ```comment```, ```Conventions```, ```external_variables```, ```references```. Some of these attribute names can also be assigned to individual variables: ```institution```, ```source```,```comment```, ```references```."
   ]
  },
  {
   "cell_type": "code",
   "execution_count": 14,
   "metadata": {},
   "outputs": [],
   "source": [
    "exp_nc.Conventions = \"CF-1.6\"\n",
    "exp_nc.title = 'An example netCDF dataset'\n",
    "exp_nc.institution = 'University of Waterloo'"
   ]
  },
  {
   "cell_type": "markdown",
   "metadata": {},
   "source": [
    "### Variables\n",
    "A variable is a multidimensional object that has, among other characteristics, a *shape*. *Shape* is defined by the number, order and sizes of its dimensions. \n",
    "\n",
    "Each variable has **5 parts**: data type, variable name, dimensions, attributes and data.\n",
    "\n",
    "Data type, variable name and dimension list must be specified when the variable is created. Dimension list fix the shape of the data array/matrix. So data type and dimension list can not be modified after the variable is created. Variables can be renamed. Attributes of the variable can be created, deleted, modified at any time. \n",
    "\n",
    "Variables are related by the dimensions they share. Eg. if two variables are defined with the same dimensions, they might represent observations or model output for the same set of points. \n",
    "\n",
    "* There are TWO different kinds of variables: physical value variables (non-coordinate data) -- **D varialbes** and coordinate related variables (variables containing coordinate data) -- **C variables**."
   ]
  },
  {
   "cell_type": "code",
   "execution_count": null,
   "metadata": {},
   "outputs": [],
   "source": [
    "lat = exp_nc.createVariable('latitude', 'i4', ('latitude', ))\n",
    "lat.units = 'degrees_north'\n",
    "\n",
    "# rename variable\n",
    "exp_nc.renameVariable('latitude', 'lat')"
   ]
  },
  {
   "cell_type": "markdown",
   "metadata": {},
   "source": [
    "#### Data Types and Data\n",
    "Data of a variable is an array(matrix) of values(all in the same data type) .\n",
    "\n",
    "Data can be stored in clasical programming data types or user-defined types. The clasical programming types include: byte, char, short, ushort, int, uint, int64, uint64, float or real, double, string. All integer types are treated as signed. String type is represented as a 1D array of char data. "
   ]
  },
  {
   "cell_type": "markdown",
   "metadata": {},
   "source": [
    "#### Dimensions of the Variable\n",
    "\n",
    "A variable can have 0 to any arbitrary number of dimensions. Some special types of variables may have 0 dimension (eg. grid mapping variable, scalar coordinate variable).\n",
    "\n",
    "The dimensions of variables with more than 0 dimension should be chosen from the already created dimensions. If any or all of the dimensions of a variable have date or time (T), height or depth (Z), latitude (Y), longitude (X), then those dimensions are **recommanded** to appear in the **relative order: T, Z, Y, X**. All other dimensions should be placed to the **left** of these spatiotemporal dimensions. \n",
    "\n",
    "A variable should be given the same name as a dimension **ONLY** when it is to be used as a coordinate variable. It is not necessary to provide a coordinate variable for each dimension. If no such variable is defined, the coordinate values of the dimension are assumed to be indexes (0, 1, 2... for C programs, or 1, 2, 3... for FORTRAN programs). "
   ]
  },
  {
   "cell_type": "markdown",
   "metadata": {},
   "source": [
    "#### Coordinate Variables\n",
    "Coordinate variables are variables containing coordinate data. They are **single-dimension** arrays that have the same size as the dimension they are assigned to. These arrays contain distinct, monotonically increasing or decreasing values. Missing values are not allowed in coordinate variables. *That is to say, only the variables with the same name as the dimensions are called coordinate variables.*\n",
    "\n",
    "Coordinate variables includes variables for locating data in space and time, and variables related to other continuous geophysical quantities. Only the space and time variables receives special treatment by the conventions. \n",
    "\n",
    "Coordinate type (whether it is latitude, longitude, vertical, time, other geophysical or discrete quantities) of a coordinate variable can be identified by the values of some of its attributes: axis, standard_name, units and positive. Axis with values T, Z, X, Y. standard_name with \"latitude\", \"longitude\", \"grid_latitude\", \"projection_x_coordinate\". \n",
    "\n"
   ]
  },
  {
   "cell_type": "markdown",
   "metadata": {},
   "source": [
    "#### Data in Projected Coordinate Systems (PCS)"
   ]
  },
  {
   "cell_type": "markdown",
   "metadata": {},
   "source": [
    "#### Attributes (Conform CF-Conventions)\n",
    "\n",
    "[CF-Conventions](http://cfconventions.org/latest.html): Climate and forecaset(CF) metadata convention. [Overview](http://cfconventions.org/Data/cf-documents/overview/viewgraphs.pdf)\n",
    "\n",
    "*Some attributes are changed among different CF-Conventions.*\n",
    "##### CF attributes for both C variables and D variables\n",
    "* **units**: **Required** for all variables (except two C variables: boundary variable and climatology variable). Variables without dimensions may optionally include units. The units values must be chosen from [udunits.dat](https://www.unidata.ucar.edu/software/udunits/udunits-1/udunits.txt), which can make it recognized by UNIDATA's [Udunits package](https://www.unidata.ucar.edu/software/udunits/). \n",
    "\n",
    "*If standard_name is assigned, the units should match the cooresponding units of the standard name.*\n",
    "\n",
    "NOTE: The acceptable units for longitude are degrees_east, degree_east, degrees_E, degree_E, degreesE, and degreeE. Similarly, the acceptable units for latitude are degrees_north, degree_north, degrees_N, degree_N, degreesN, and degreeN. Unit for representing fractions or parts of a whole is \"1\". \n",
    "* **long_name**: Optional, but **highly recommended** to be included either this or \"standard_name\". String for human reader.\n",
    "* **standard_name**: identifies the quantity. It is a list of string, blank separated. Each string is a case sensitive standard name without whitespace. Standard names can be found in [table](http://cfconventions.org/Data/cf-standard-names/50/build/cf-standard-name-table.html). The table is expanding on request. \n",
    "* _FillValue, missing_value, actual_range\n",
    "* valid_max, valid_min, valid_range: indicates valid values of a variable.\n",
    "* add_offset\n",
    "* scale_factor\n",
    "* comment"
   ]
  },
  {
   "cell_type": "markdown",
   "metadata": {},
   "source": [
    "##### CF attributes for C variables\n",
    "* **axis**: identifies space and time axes. Given one of the values X, Y, Z and T which stands for a longitude, latitude, vertical and time axis respectively.\n",
    "\n",
    "for Time axes:\n",
    "* **calendar**: calendar chosen from \"gregorian\" or \"standard\", \"proleptic_gregorian\", \"noleap\" or \"365_day\", \"all_leap\" or \"366_day\", \"360_day\", \"julian\", \"none\"\n",
    "* leap_month, leap_year, month_lengths: for user defined calendar\n",
    "\n",
    "for vertical axes:\n",
    "* **positive**: direction of increasing vertical coordinate value.\n",
    "* computed_standard_name: from the standard name table, for computed vertical coordinate values, computed according to the formula in the definition\n",
    "* formular_terms: identifieds variables that coorespond to the terms in a formula\n",
    "\n",
    "* bounds: for boundary variable\n",
    "* climatology: for climatology variable\n",
    "* cf_role: roles of variables, geometries\n",
    "* compress: compressed dimensions\n",
    "\n",
    "**For grid mapping variables:**"
   ]
  },
  {
   "cell_type": "markdown",
   "metadata": {},
   "source": [
    "##### CF attributes for D variables\n",
    "* **coordinates**: \n",
    "* **grid_mapping**: \n",
    "\n",
    "* ancillary_variables: a pointer to variables providing metadata about the individual data values, represents having relationships with other variables. eg. standard error, data quality information.\n",
    "* cell_measures, cell_methods\n",
    "* flag_masks, flag_meanings, flag_values: mutually exclusive coded values\n",
    "* instituition, reference, source\n",
    "* standard_error_multiplier"
   ]
  },
  {
   "cell_type": "code",
   "execution_count": 15,
   "metadata": {},
   "outputs": [],
   "source": [
    "exp_nc.close()"
   ]
  },
  {
   "cell_type": "markdown",
   "metadata": {},
   "source": [
    "### Other useful sources and examples:\n",
    "* A R example of reading and writing a projected netCDF file [here](http://geog.uoregon.edu/bartlein/courses/geog490/week04-netCDFprojected.html)"
   ]
  }
 ],
 "metadata": {
  "kernelspec": {
   "display_name": "Python 3",
   "language": "python",
   "name": "python3"
  },
  "language_info": {
   "codemirror_mode": {
    "name": "ipython",
    "version": 3
   },
   "file_extension": ".py",
   "mimetype": "text/x-python",
   "name": "python",
   "nbconvert_exporter": "python",
   "pygments_lexer": "ipython3",
   "version": "3.5.2"
  }
 },
 "nbformat": 4,
 "nbformat_minor": 2
}
