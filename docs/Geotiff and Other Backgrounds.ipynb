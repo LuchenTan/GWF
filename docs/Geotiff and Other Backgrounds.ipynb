{
 "cells": [
  {
   "cell_type": "markdown",
   "metadata": {},
   "source": [
    "# GeoTIFF\n",
    "GeoTIFF (Georeferenced Tagged Image File Format) is an public **raster** data file format```.tif```. It embeds spatial(georeferencing) information within a **TIFF** file. The potential additional information includes **map projection**, **coordinate systems**, **ellipsoids**, **datums** and everything else necessary to establish the exact spatial reference for the file. \n",
    "\n",
    "The official GeoTiff Format Specification [here](http://geotiff.maptools.org/spec/geotiffhome.html). "
   ]
  },
  {
   "cell_type": "markdown",
   "metadata": {},
   "source": [
    "## 1. What is raster format?\n",
    "There are two main type of image files: **raster** and **vector**. [cited here](https://vector-conversions.com/vectorizing/raster_vs_vector.html) \n",
    "* Raster images are created with pixel-based programs or captured with a camera or scanner (e.g. jpg, gif, png). A pixel is a single point or the smallest single element in a display device. If you zoom in to a raster image, you may start to see a lot of little tiny squares.\n",
    "* Vector graphics are created with vector software and are commonly applied onto a physical product (e.g. used in CAD, engineering). Vector images are mathematical calculations from one point to another that form lines and shapes. If you zoom into a vector graphic, it will always look the same. "
   ]
  },
  {
   "cell_type": "markdown",
   "metadata": {},
   "source": [
    "## 2. From TIFF to GeoTIFF\n",
    "[cited here](https://www.geospatialworld.net/article/geotiff-a-standard-image-file-format-for-gis-applications/).\n",
    "\n",
    "TIFF(Tagged Image File Format) stores raster images(```.tif```). In each .tif file, there are raster data layer(s)(can have more than one raster image) with a set of TIFF tags. Tags can indicate some basic geometry info of the image, such as width, length, compression scheme used, colorspace, resolution, etc. \n",
    "\n",
    "GeoTIFF embeds extra geographic information for GIS (Geographic information system) usage, such as latitude, longitude, projected coordinate systems, model space, etc. It explains: \n",
    "* what area does this dataset cover?\n",
    "* what spatial projection/coordinate reference system is used to store the data?\n",
    "* what area on the ground does each pixel cover? what is its spatial resolution?\n",
    "* how many layers are in the .tif file?"
   ]
  },
  {
   "cell_type": "markdown",
   "metadata": {},
   "source": [
    "## 3. Some knowledge of Geographic\n",
    "### [Geographic Coordinate System](https://en.wikipedia.org/wiki/Geographic_coordinate_system)\n",
    "Geographic Coordinate System is a coordinate system with latitude, longitude and height. Earth is not a sphere, but an irregular shape approximating a biaxial ellipsoid. It is nearly spherical. Also the surface of earch is not flat. In order to be unambiguous about the vertical and surface when we are describing the earth, we need to choose a **reference ellipsoid** and a **datum**. \n",
    "\n",
    "### [Map Projection](http://kartoweb.itc.nl/geometrics/Map%20projections/body.htm)\n",
    "The Eurth's surface is curved in a specific way. To represent some part of the planet to a flat two-dimensional paper map or on a computer screen requires a map projection. Mpping onto a 2D plane means transforming each point on the reference surface with geographic coordinates to a set of Cartesian coordinates(x, y) representing positions on the map plane. Different mapping equations have different parameters.\n",
    "\n",
    "Different map projections can be described in terms of their: see [here](http://kartoweb.itc.nl/geometrics/Map%20projections/body.htm)\n",
    "1. class (cylindrical, conical or azimuthal)\n",
    "2. point of secancy (tangenent or secant\n",
    "3. aspect (normal, transverse or oblique), and\n",
    "4. distortion property (equal-area, equidistant or conformal).\n",
    "\n",
    "Another descriptor of a map projection might be the name of the inventor (or first publisher) of the projection, such as Mercator, Lambert, Robinson, Cassini etc.. For example:\n",
    "* Lambert conformal conic projection\n",
    "* Lambert azimuthal equal-area projection\n",
    "* Polar stereographic azimuthal projection"
   ]
  },
  {
   "cell_type": "markdown",
   "metadata": {},
   "source": [
    "There are lots of different ways to describe a projection:\n",
    "* [Well Known Text (WKT)](http://en.wikipedia.org/wiki/Well-known_text)\n",
    "```\n",
    "PROJCS[\"UTM Zone 12, Northern Hemisphere\",GEOGCS[\"WGS_1984\",DATUM[\"WGS_1984\",SPHEROID[\"WGS 84\",6378137,298.2572235630016],TOWGS84[0,0,0,0,0,0,0]],PRIMEM[ \"Greenwich\",0],UNIT[\"degree\",0.0174532925199433],AUTHORITY[\"EP SG\",\"4326\"]],PROJECTION[\"Transverse_Mercator\"],PARAMETER[\"lati tude_of_origin\",0],PARAMETER[\"central_meridian\",- 111],PARAMETER[\"scale_factor\",0.9996],PARAMETER[\"false_easting \",500000],PARAMETER[\"false_northing\",0],UNIT[\"Meter\",1],AUTHOR ITY[\"EPSG\",\"32612\"]]\n",
    "```\n",
    "* [PROJ.4](https://en.wikipedia.org/wiki/PROJ.4)\n",
    "```\n",
    "+proj=utm +zone=12 +ellps=WGS84 +datum=WGS84 +units=m +no_defs\n",
    "```\n",
    "* [EPSG (European Petroleum Survey Group)](https://en.wikipedia.org/wiki/EPSG)\n",
    "```\n",
    "EPSG:32612\n",
    "```\n",
    "* [USGS (United States Geological Survey)](https://en.wikipedia.org/wiki/United_States_Geological_Survey)\n",
    "```\n",
    "(1, 12, (0.0, 0.0, 0.0, 0.0, 0.0, 0.0, 0.0, 0.0, 0.0, 0.0, 0.0, 0.0, 0.0, 0.0, 0.0), 12)\n",
    "```\n",
    "* [ESRI .prj file](https://vsp.pnnl.gov/help/vsample/ESRI_PRJ_File.htm)(Environmental Systems Research Institute)\n",
    "* PCI software\n",
    "```\n",
    "('UTM 12 D000', 'METRE', (0.0, 0.0, 0.0, 0.0, 0.0, 0.0, 0.0, 0.0, 0.0, 0.0, 0.0, 0.0, 0.0, 0.0, 0.0, 0.0, 0.0))\n",
    "```\n",
    "* XML"
   ]
  },
  {
   "cell_type": "markdown",
   "metadata": {},
   "source": [
    "## 4. Reading/Writing GeoTIFF (GDAL)\n",
    "[GDAL](http://gdal.org) (Geospatial Data Abstraction Library) is an open source translator library for raster and vector geospatial data formats. The related OGR library (OGR simple features library) is part of the GDAL source tree, provides a similar ability for simple features vector graphics data.\n",
    "\n",
    "### Install GDAL\n",
    "*Directly using apt-get to install gdal-bin will get an old version of libgdal-dev (v. 1.11.3), which includes some development packages for different languages.*\n",
    "\n",
    "To get the latest GDAL/OGR version, add the PPA to your sources, then install the gdal-bin package (this should automatically grab any necessary dependencies, including at least the relevant libgdal version). "
   ]
  },
  {
   "cell_type": "code",
   "execution_count": null,
   "metadata": {},
   "outputs": [],
   "source": [
    "! sudo add-apt-repository ppa:ubuntugis/ppa\n",
    "! sudo apt-get update\n",
    "! sudo apt-get install gdal-bin"
   ]
  },
  {
   "cell_type": "markdown",
   "metadata": {},
   "source": [
    "#### Command line utility tools"
   ]
  },
  {
   "cell_type": "markdown",
   "metadata": {},
   "source": [
    "```gdalinfo``` report information about a file\n",
    "\n",
    "```gdal_traslate``` copy a raster file, with control of output format"
   ]
  },
  {
   "cell_type": "markdown",
   "metadata": {},
   "source": [
    "**Some tips of the current project**\n",
    "\n",
    "*I tried to use ```gdal_translate``` to achieve GeoTiff to NetCDF at the beginning. However, the auto translation can not satisfy the requirement of the desired NetCDF dataset for a couple reasons.*\n",
    "\n",
    "1. The data variable need to be meaningfully named. Its attributes should be manually added to conform CF conventions.\n",
    "2. An unlimited time dimension needs to be added. Moreover, the time dimension needs to be added to the data variable. \n",
    "3. To conform CF conventions, the latitude and longitude auxiliary coordinate variables should be supplied. It means that we need to unproject the projection coordinate system of GeoTiff. \n",
    "4. The auto translation includes some unnecessary TIFF TAGS, which were asked to be removed. \n"
   ]
  },
  {
   "cell_type": "markdown",
   "metadata": {},
   "source": [
    "### Python GDAL/OGR"
   ]
  },
  {
   "cell_type": "markdown",
   "metadata": {},
   "source": [
    "Some useful examples:\n",
    "* [Python GDAL/OGR Cookbook](https://pcjericks.github.io/py-gdalogr-cookbook/)\n",
    "* [Posts on osgeo.cn(Chinese)](http://www.osgeo.cn/leaf/7156g)\n",
    "* [python gdal tutorial(Chinese)](http://www.osgeo.cn/python_gdal_utah_tutorial/ch05.html)"
   ]
  },
  {
   "cell_type": "code",
   "execution_count": 92,
   "metadata": {},
   "outputs": [],
   "source": [
    "import sys\n",
    "import numpy as np\n",
    "## before v1.5\n",
    "import gdal\n",
    "## after v1.6\n",
    "from osgeo import gdal\n",
    "\n",
    "fn = '../UW_NA_LST_7.1.1_001_2008.10.1_0.0.0_2008.10.31_23.59.59_NA_001.tif'\n",
    "## open dataset\n",
    "ds = gdal.Open(fn)\n",
    "\n",
    "## Handle error\n",
    "if ds is None:\n",
    "    print ('Could not open ' + fn)\n",
    "    sys.exit(1)"
   ]
  },
  {
   "cell_type": "markdown",
   "metadata": {},
   "source": [
    "#### Get Metadata\n",
    "Metadata includes: (*Not all of these TIFF TAGS are supposed to be shown in netCDF dataset)\n",
    "* TIFFTAG_DOCUMENTNAME\n",
    "* TIFFTAG_IMAGEDESCRIPTION\n",
    "* TIFFTAG_SOFTWARE\n",
    "* TIFFTAG_DATETIME\n",
    "* TIFFTAG_ARTIST\n",
    "* TIFFTAG_HOSTCOMPUTER\n",
    "* TIFFTAG_COPYRIGHT\n",
    "* TIFFTAG_XRESOLUTION\n",
    "* TIFFTAG_YRESOLUTION\n",
    "* TIFFTAG_RESOLUTIONUNIT\n",
    "* TIFFTAG_MINSAMPLEVALUE (read only)\n",
    "* TIFFTAG_MAXSAMPLEVALUE (read only)"
   ]
  },
  {
   "cell_type": "code",
   "execution_count": 2,
   "metadata": {},
   "outputs": [
    {
     "data": {
      "text/plain": [
       "{'AREA_OR_POINT': 'Area',\n",
       " 'TIFFTAG_DATETIME': '2018:02:13 13:18:46',\n",
       " 'TIFFTAG_DOCUMENTNAME': 'C:\\\\Users\\\\h2kheyro\\\\Documents\\\\Data_Analysis\\\\Great Lakes\\\\LST\\\\MonthlyAve2/UW_NA_LST_7.1.1_001_2008.10.1_0.0.0_2008.10.31_23.59.59_NA_001.tif',\n",
       " 'TIFFTAG_IMAGEDESCRIPTION': 'IDL TIFF file',\n",
       " 'TIFFTAG_RESOLUTIONUNIT': '2 (pixels/inch)',\n",
       " 'TIFFTAG_SOFTWARE': 'IDL 7.1.2, ITT Visual Information Solutions',\n",
       " 'TIFFTAG_XRESOLUTION': '100',\n",
       " 'TIFFTAG_YRESOLUTION': '100'}"
      ]
     },
     "execution_count": 2,
     "metadata": {},
     "output_type": "execute_result"
    }
   ],
   "source": [
    "ds.GetMetadata()"
   ]
  },
  {
   "cell_type": "markdown",
   "metadata": {},
   "source": [
    "#### Get Raster Description"
   ]
  },
  {
   "cell_type": "code",
   "execution_count": 4,
   "metadata": {},
   "outputs": [
    {
     "data": {
      "text/plain": [
       "'../UW_NA_LST_7.1.1_001_2008.10.1_0.0.0_2008.10.31_23.59.59_NA_001.tif'"
      ]
     },
     "execution_count": 4,
     "metadata": {},
     "output_type": "execute_result"
    }
   ],
   "source": [
    "ds.GetDescription()"
   ]
  },
  {
   "cell_type": "markdown",
   "metadata": {},
   "source": [
    "#### Get the count of raster images"
   ]
  },
  {
   "cell_type": "code",
   "execution_count": 36,
   "metadata": {},
   "outputs": [
    {
     "data": {
      "text/plain": [
       "1"
      ]
     },
     "execution_count": 36,
     "metadata": {},
     "output_type": "execute_result"
    }
   ],
   "source": [
    "band_cnt = ds.RasterCount\n",
    "band_cnt"
   ]
  },
  {
   "cell_type": "markdown",
   "metadata": {},
   "source": [
    "#### Get size of the image (number of pixels on X axis and Y axis)"
   ]
  },
  {
   "cell_type": "code",
   "execution_count": 8,
   "metadata": {},
   "outputs": [
    {
     "data": {
      "text/plain": [
       "(1299, 1956)"
      ]
     },
     "execution_count": 8,
     "metadata": {},
     "output_type": "execute_result"
    }
   ],
   "source": [
    "img_width = ds.RasterXSize\n",
    "img_height = ds.RasterYSize\n",
    "img_width, img_height"
   ]
  },
  {
   "cell_type": "markdown",
   "metadata": {},
   "source": [
    "#### Get Georeference Info (GeoTransform)\n",
    "```GeoTransform()``` is a list, storing the pixel location of a geospatial coordinate. \n",
    "* ```GeoTransform()[0]```  top left x \n",
    "* ```GeoTransform()[1]```  west-east direction pixel resolution\n",
    "* ```GeoTransform()[2]```  rotation, **0 if image is \"north up\"** \n",
    "* ```GeoTransform()[3]```  top left y \n",
    "* ```GeoTransform()[4]```  rotation, 0 if image is \"north up\" /*如果北边朝上，地图的旋转角度*/\n",
    "* ```GeoTransform()[5]```  north-south direction pixel resolution\n",
    "\n",
    "**NOTE**: the north-sourth direction resolution is a negative value."
   ]
  },
  {
   "cell_type": "code",
   "execution_count": 80,
   "metadata": {},
   "outputs": [
    {
     "data": {
      "text/plain": [
       "(-5386000.000000001, 1000.0, 0.0, 470999.99999999953, 0.0, -1000.0)"
      ]
     },
     "execution_count": 80,
     "metadata": {},
     "output_type": "execute_result"
    }
   ],
   "source": [
    "x_topleft, x_res, dx_dy, y_topleft, dy_dx, y_res= ds.GetGeoTransform()\n",
    "x_topleft, x_res, dx_dy, y_topleft, dy_dx, y_res"
   ]
  },
  {
   "cell_type": "markdown",
   "metadata": {},
   "source": [
    "#### Get x and y values\n",
    "To get the pixel offsets of a particular pixel(x, y), which is the offset from the top left pixel (suppose we know x and y)"
   ]
  },
  {
   "cell_type": "code",
   "execution_count": null,
   "metadata": {},
   "outputs": [],
   "source": [
    "x_offset = int((x - x_topleft) / x_res)\n",
    "y_offset = int((y - y_topleft) / y_res)"
   ]
  },
  {
   "cell_type": "markdown",
   "metadata": {},
   "source": [
    "To get the x array and y array"
   ]
  },
  {
   "cell_type": "code",
   "execution_count": 59,
   "metadata": {},
   "outputs": [
    {
     "data": {
      "text/plain": [
       "(array([-5386000., -5385000., -5384000., ..., -4090000., -4089000.,\n",
       "        -4088000.]),\n",
       " array([  471000.,   470000.,   469000., ..., -1482000., -1483000.,\n",
       "        -1484000.]))"
      ]
     },
     "execution_count": 59,
     "metadata": {},
     "output_type": "execute_result"
    }
   ],
   "source": [
    "xcoordinates = np.arange(start=x_topleft, stop=x_topleft+x_res*img_width, step=x_res)\n",
    "ycoordinates = np.arange(start=y_topleft, stop=y_topleft+y_res*img_height, step=y_res)\n",
    "xcoordinates, ycoordinates"
   ]
  },
  {
   "cell_type": "markdown",
   "metadata": {},
   "source": [
    "#### Get Raster Band(s)\n",
    "```GetRasterBand(band_num)``` The ```band_num``` starts from ```1```. "
   ]
  },
  {
   "cell_type": "code",
   "execution_count": 93,
   "metadata": {
    "scrolled": true
   },
   "outputs": [
    {
     "data": {
      "text/plain": [
       "(1956, 1299)"
      ]
     },
     "execution_count": 93,
     "metadata": {},
     "output_type": "execute_result"
    }
   ],
   "source": [
    "band = ds.GetRasterBand(1)\n",
    "data = band.ReadAsArray()\n",
    "len(data), len(data[0])"
   ]
  },
  {
   "cell_type": "code",
   "execution_count": 103,
   "metadata": {},
   "outputs": [
    {
     "data": {
      "text/plain": [
       "[273.11428833008, 291.07711791992, 281.24646942221, 3.5048182931947]"
      ]
     },
     "execution_count": 103,
     "metadata": {},
     "output_type": "execute_result"
    }
   ],
   "source": [
    "# Returns the minimum, maximum, mean and standard deviation of all pixel values in this band.\n",
    "stats = band.GetStatistics(True, True)\n",
    "stats"
   ]
  },
  {
   "cell_type": "code",
   "execution_count": 100,
   "metadata": {},
   "outputs": [
    {
     "data": {
      "text/plain": [
       "273.11428833008"
      ]
     },
     "execution_count": 100,
     "metadata": {},
     "output_type": "execute_result"
    }
   ],
   "source": [
    "# Returns the minimum of all pixel values.\n",
    "minimum = band.GetMinimum()\n",
    "minimum"
   ]
  },
  {
   "cell_type": "markdown",
   "metadata": {},
   "source": [
    "**NOTE**: the rows and cols of raster data are opposite of the rows and cols of mathimatical matrix. \n",
    "\n",
    "For example, here RasterXSize is 1299, means there are columns in the matrix. Thus, taking a pixel from data array using offsets should be data[yoffset, xoffset]."
   ]
  },
  {
   "cell_type": "markdown",
   "metadata": {},
   "source": [
    "#### Get Projection Information"
   ]
  },
  {
   "cell_type": "code",
   "execution_count": 44,
   "metadata": {},
   "outputs": [
    {
     "data": {
      "text/plain": [
       "'PROJCS[\"unnamed\",GEOGCS[\"unknown\",DATUM[\"unknown\",SPHEROID[\"unnamed\",6371228,0]],PRIMEM[\"Greenwich\",0],UNIT[\"degree\",0.0174532925199433]],PROJECTION[\"Lambert_Azimuthal_Equal_Area\"],PARAMETER[\"latitude_of_center\",90],PARAMETER[\"longitude_of_center\",0],PARAMETER[\"false_easting\",0],PARAMETER[\"false_northing\",0],UNIT[\"metre\",1,AUTHORITY[\"EPSG\",\"9001\"]]]'"
      ]
     },
     "execution_count": 44,
     "metadata": {},
     "output_type": "execute_result"
    }
   ],
   "source": [
    "prj = ds.GetProjection() # get the projection info in WKT\n",
    "prj"
   ]
  },
  {
   "cell_type": "markdown",
   "metadata": {},
   "source": [
    "#### Unprojecting projection coordinate system to geographic coordinate system\n",
    "There might be multiple ways to achieve the unprojection.\n",
    "#### 1. osgeo\n",
    "**WGS-84 geographic spatial reference system(EPSG 4326)**"
   ]
  },
  {
   "cell_type": "code",
   "execution_count": 48,
   "metadata": {},
   "outputs": [
    {
     "data": {
      "text/plain": [
       "0"
      ]
     },
     "execution_count": 48,
     "metadata": {},
     "output_type": "execute_result"
    }
   ],
   "source": [
    "from osgeo import osr\n",
    "\n",
    "# get the original GeoTIFFSpatialReference\n",
    "tifSpatialRef = osr.SpatialReference()\n",
    "tifSpatialRef.ImportFromWkt(prj)"
   ]
  },
  {
   "cell_type": "code",
   "execution_count": 151,
   "metadata": {},
   "outputs": [
    {
     "data": {
      "text/plain": [
       "(-5386000.000000001,\n",
       " 470999.99999999953,\n",
       " (-94.99774138723588, 39.787958548172064, 0.0))"
      ]
     },
     "execution_count": 151,
     "metadata": {},
     "output_type": "execute_result"
    }
   ],
   "source": [
    "# Define a new spatial reference, which is the lat/lon geographic spatial reference\n",
    "geoSpatialRef = osr.SpatialReference()\n",
    "geoSpatialRef.ImportFromEPSG(4326)\n",
    "\n",
    "# define the coordinate transformation\n",
    "transform = osr.CoordinateTransformation(tifSpatialRef, geoSpatialRef)\n",
    "\n",
    "xcoordinates[0], ycoordinates[0], transform.TransformPoint(xcoordinates[0], ycoordinates[0])"
   ]
  },
  {
   "cell_type": "code",
   "execution_count": 152,
   "metadata": {},
   "outputs": [
    {
     "data": {
      "text/plain": [
       "(-5385000.000000001,\n",
       " 469999.99999999953,\n",
       " (-94.98810549514451, 39.79871610913208, 0.0))"
      ]
     },
     "execution_count": 152,
     "metadata": {},
     "output_type": "execute_result"
    }
   ],
   "source": [
    "xcoordinates[1], ycoordinates[1], transform.TransformPoint(xcoordinates[1], ycoordinates[1])"
   ]
  },
  {
   "cell_type": "code",
   "execution_count": 150,
   "metadata": {},
   "outputs": [
    {
     "data": {
      "text/plain": [
       "(-4088000.000000001,\n",
       " -1484000.0000000005,\n",
       " (-70.04840930523675, 50.087589548645035, 0.0))"
      ]
     },
     "execution_count": 150,
     "metadata": {},
     "output_type": "execute_result"
    }
   ],
   "source": [
    "xcoordinates[-1], ycoordinates[-1], transform.TransformPoint(xcoordinates[-1], ycoordinates[-1])"
   ]
  },
  {
   "cell_type": "code",
   "execution_count": 148,
   "metadata": {},
   "outputs": [
    {
     "data": {
      "text/plain": [
       "(-5386000.000000001, -4088000.000000001)"
      ]
     },
     "execution_count": 148,
     "metadata": {},
     "output_type": "execute_result"
    }
   ],
   "source": [
    "xcoordinates.min(), xcoordinates.max()"
   ]
  },
  {
   "cell_type": "code",
   "execution_count": 149,
   "metadata": {},
   "outputs": [
    {
     "data": {
      "text/plain": [
       "(-1484000.0000000005, 470999.99999999953)"
      ]
     },
     "execution_count": 149,
     "metadata": {},
     "output_type": "execute_result"
    }
   ],
   "source": [
    "ycoordinates.min(), ycoordinates.max()"
   ]
  },
  {
   "cell_type": "markdown",
   "metadata": {},
   "source": [
    "But the ```TransformPoint``` has to be done point by point. So it's not convinient. "
   ]
  },
  {
   "cell_type": "markdown",
   "metadata": {},
   "source": [
    "#### 2. PyProj"
   ]
  },
  {
   "cell_type": "code",
   "execution_count": 71,
   "metadata": {},
   "outputs": [],
   "source": [
    "import pyproj\n",
    "\n",
    "proj4 = tifSpatialRef.ExportToProj4()\n",
    "inproj = pyproj.Proj(proj4)\n",
    "\n",
    "xv, yv = np.meshgrid(xcoordinates, ycoordinates)\n",
    "lons, lats = inproj(xv, yv, inverse=True)\n",
    "# the inverse tag is for indicating the direction of projection\n",
    "# lat/lon to other coordinate systems: inverse=False\n",
    "# other to lat/lon: inverse=True"
   ]
  },
  {
   "cell_type": "code",
   "execution_count": 157,
   "metadata": {},
   "outputs": [
    {
     "name": "stdout",
     "output_type": "stream",
     "text": [
      "Help on SpatialReference in module osgeo.osr object:\n",
      "\n",
      "class SpatialReference(builtins.object)\n",
      " |  Proxy of C++ OSRSpatialReferenceShadow class.\n",
      " |  \n",
      " |  Methods defined here:\n",
      " |  \n",
      " |  AutoIdentifyEPSG(self, *args)\n",
      " |      AutoIdentifyEPSG(SpatialReference self) -> OGRErr\n",
      " |  \n",
      " |  Clone(self, *args)\n",
      " |      Clone(SpatialReference self) -> SpatialReference\n",
      " |  \n",
      " |  CloneGeogCS(self, *args)\n",
      " |      CloneGeogCS(SpatialReference self) -> SpatialReference\n",
      " |  \n",
      " |  CopyGeogCSFrom(self, *args)\n",
      " |      CopyGeogCSFrom(SpatialReference self, SpatialReference rhs) -> OGRErr\n",
      " |  \n",
      " |  EPSGTreatsAsLatLong(self, *args)\n",
      " |      EPSGTreatsAsLatLong(SpatialReference self) -> int\n",
      " |  \n",
      " |  EPSGTreatsAsNorthingEasting(self, *args)\n",
      " |      EPSGTreatsAsNorthingEasting(SpatialReference self) -> int\n",
      " |  \n",
      " |  ExportToMICoordSys(self, *args)\n",
      " |      ExportToMICoordSys(SpatialReference self) -> OGRErr\n",
      " |  \n",
      " |  ExportToPCI(self, *args)\n",
      " |      ExportToPCI(SpatialReference self) -> OGRErr\n",
      " |  \n",
      " |  ExportToPrettyWkt(self, *args)\n",
      " |      ExportToPrettyWkt(SpatialReference self, int simplify=0) -> OGRErr\n",
      " |  \n",
      " |  ExportToProj4(self, *args)\n",
      " |      ExportToProj4(SpatialReference self) -> OGRErr\n",
      " |  \n",
      " |  ExportToUSGS(self, *args)\n",
      " |      ExportToUSGS(SpatialReference self) -> OGRErr\n",
      " |  \n",
      " |  ExportToWkt(self, *args)\n",
      " |      ExportToWkt(SpatialReference self) -> OGRErr\n",
      " |  \n",
      " |  ExportToXML(self, *args)\n",
      " |      ExportToXML(SpatialReference self, char const * dialect) -> OGRErr\n",
      " |  \n",
      " |  Fixup(self, *args)\n",
      " |      Fixup(SpatialReference self) -> OGRErr\n",
      " |  \n",
      " |  FixupOrdering(self, *args)\n",
      " |      FixupOrdering(SpatialReference self) -> OGRErr\n",
      " |  \n",
      " |  GetAngularUnits(self, *args)\n",
      " |      GetAngularUnits(SpatialReference self) -> double\n",
      " |  \n",
      " |  GetAngularUnitsName(self, *args)\n",
      " |      GetAngularUnitsName(SpatialReference self) -> char const *\n",
      " |  \n",
      " |  GetAttrValue(self, *args)\n",
      " |      GetAttrValue(SpatialReference self, char const * name, int child=0) -> char const *\n",
      " |  \n",
      " |  GetAuthorityCode(self, *args)\n",
      " |      GetAuthorityCode(SpatialReference self, char const * target_key) -> char const *\n",
      " |  \n",
      " |  GetAuthorityName(self, *args)\n",
      " |      GetAuthorityName(SpatialReference self, char const * target_key) -> char const *\n",
      " |  \n",
      " |  GetAxisName(self, *args)\n",
      " |      GetAxisName(SpatialReference self, char const * target_key, int iAxis) -> char const *\n",
      " |  \n",
      " |  GetAxisOrientation(self, *args)\n",
      " |      GetAxisOrientation(SpatialReference self, char const * target_key, int iAxis) -> OGRAxisOrientation\n",
      " |  \n",
      " |  GetInvFlattening(self, *args)\n",
      " |      GetInvFlattening(SpatialReference self) -> double\n",
      " |  \n",
      " |  GetLinearUnits(self, *args)\n",
      " |      GetLinearUnits(SpatialReference self) -> double\n",
      " |  \n",
      " |  GetLinearUnitsName(self, *args)\n",
      " |      GetLinearUnitsName(SpatialReference self) -> char const *\n",
      " |  \n",
      " |  GetNormProjParm(self, *args)\n",
      " |      GetNormProjParm(SpatialReference self, char const * name, double default_val=0.0) -> double\n",
      " |  \n",
      " |  GetProjParm(self, *args)\n",
      " |      GetProjParm(SpatialReference self, char const * name, double default_val=0.0) -> double\n",
      " |  \n",
      " |  GetSemiMajor(self, *args)\n",
      " |      GetSemiMajor(SpatialReference self) -> double\n",
      " |  \n",
      " |  GetSemiMinor(self, *args)\n",
      " |      GetSemiMinor(SpatialReference self) -> double\n",
      " |  \n",
      " |  GetTOWGS84(self, *args)\n",
      " |      GetTOWGS84(SpatialReference self) -> OGRErr\n",
      " |  \n",
      " |  GetTargetLinearUnits(self, *args)\n",
      " |      GetTargetLinearUnits(SpatialReference self, char const * target_key) -> double\n",
      " |  \n",
      " |  GetUTMZone(self, *args)\n",
      " |      GetUTMZone(SpatialReference self) -> int\n",
      " |  \n",
      " |  ImportFromEPSG(self, *args)\n",
      " |      ImportFromEPSG(SpatialReference self, int arg) -> OGRErr\n",
      " |  \n",
      " |  ImportFromEPSGA(self, *args)\n",
      " |      ImportFromEPSGA(SpatialReference self, int arg) -> OGRErr\n",
      " |  \n",
      " |  ImportFromERM(self, *args)\n",
      " |      ImportFromERM(SpatialReference self, char const * proj, char const * datum, char const * units) -> OGRErr\n",
      " |  \n",
      " |  ImportFromESRI(self, *args)\n",
      " |      ImportFromESRI(SpatialReference self, char ** ppszInput) -> OGRErr\n",
      " |  \n",
      " |  ImportFromMICoordSys(self, *args)\n",
      " |      ImportFromMICoordSys(SpatialReference self, char const * pszCoordSys) -> OGRErr\n",
      " |  \n",
      " |  ImportFromOzi(self, *args)\n",
      " |      ImportFromOzi(SpatialReference self, char const *const * papszLines) -> OGRErr\n",
      " |  \n",
      " |  ImportFromPCI(self, *args)\n",
      " |      ImportFromPCI(SpatialReference self, char const * proj, char const * units, double [17] argin=0) -> OGRErr\n",
      " |  \n",
      " |  ImportFromProj4(self, *args)\n",
      " |      ImportFromProj4(SpatialReference self, char * ppszInput) -> OGRErr\n",
      " |  \n",
      " |  ImportFromUSGS(self, *args)\n",
      " |      ImportFromUSGS(SpatialReference self, long proj_code, long zone=0, double [15] argin=0, long datum_code=0) -> OGRErr\n",
      " |  \n",
      " |  ImportFromUrl(self, *args)\n",
      " |      ImportFromUrl(SpatialReference self, char * url) -> OGRErr\n",
      " |  \n",
      " |  ImportFromWkt(self, *args)\n",
      " |      ImportFromWkt(SpatialReference self, char ** ppszInput) -> OGRErr\n",
      " |  \n",
      " |  ImportFromXML(self, *args)\n",
      " |      ImportFromXML(SpatialReference self, char const * xmlString) -> OGRErr\n",
      " |  \n",
      " |  IsCompound(self, *args)\n",
      " |      IsCompound(SpatialReference self) -> int\n",
      " |  \n",
      " |  IsGeocentric(self, *args)\n",
      " |      IsGeocentric(SpatialReference self) -> int\n",
      " |  \n",
      " |  IsGeographic(self, *args)\n",
      " |      IsGeographic(SpatialReference self) -> int\n",
      " |  \n",
      " |  IsLocal(self, *args)\n",
      " |      IsLocal(SpatialReference self) -> int\n",
      " |  \n",
      " |  IsProjected(self, *args)\n",
      " |      IsProjected(SpatialReference self) -> int\n",
      " |  \n",
      " |  IsSame(self, *args)\n",
      " |      IsSame(SpatialReference self, SpatialReference rhs) -> int\n",
      " |  \n",
      " |  IsSameGeogCS(self, *args)\n",
      " |      IsSameGeogCS(SpatialReference self, SpatialReference rhs) -> int\n",
      " |  \n",
      " |  IsSameVertCS(self, *args)\n",
      " |      IsSameVertCS(SpatialReference self, SpatialReference rhs) -> int\n",
      " |  \n",
      " |  IsVertical(self, *args)\n",
      " |      IsVertical(SpatialReference self) -> int\n",
      " |  \n",
      " |  MorphFromESRI(self, *args)\n",
      " |      MorphFromESRI(SpatialReference self) -> OGRErr\n",
      " |  \n",
      " |  MorphToESRI(self, *args)\n",
      " |      MorphToESRI(SpatialReference self) -> OGRErr\n",
      " |  \n",
      " |  SetACEA(self, *args, **kwargs)\n",
      " |      SetACEA(SpatialReference self, double stdp1, double stdp2, double clat, double clong, double fe, double fn) -> OGRErr\n",
      " |  \n",
      " |  SetAE(self, *args, **kwargs)\n",
      " |      SetAE(SpatialReference self, double clat, double clong, double fe, double fn) -> OGRErr\n",
      " |  \n",
      " |  SetAngularUnits(self, *args)\n",
      " |      SetAngularUnits(SpatialReference self, char const * name, double to_radians) -> OGRErr\n",
      " |  \n",
      " |  SetAttrValue(self, *args)\n",
      " |      SetAttrValue(SpatialReference self, char const * name, char const * value) -> OGRErr\n",
      " |  \n",
      " |  SetAuthority(self, *args)\n",
      " |      SetAuthority(SpatialReference self, char const * pszTargetKey, char const * pszAuthority, int nCode) -> OGRErr\n",
      " |  \n",
      " |  SetBonne(self, *args, **kwargs)\n",
      " |      SetBonne(SpatialReference self, double stdp, double cm, double fe, double fn) -> OGRErr\n",
      " |  \n",
      " |  SetCEA(self, *args, **kwargs)\n",
      " |      SetCEA(SpatialReference self, double stdp1, double cm, double fe, double fn) -> OGRErr\n",
      " |  \n",
      " |  SetCS(self, *args, **kwargs)\n",
      " |      SetCS(SpatialReference self, double clat, double clong, double fe, double fn) -> OGRErr\n",
      " |  \n",
      " |  SetCompoundCS(self, *args)\n",
      " |      SetCompoundCS(SpatialReference self, char const * name, SpatialReference horizcs, SpatialReference vertcs) -> OGRErr\n",
      " |  \n",
      " |  SetEC(self, *args, **kwargs)\n",
      " |      SetEC(SpatialReference self, double stdp1, double stdp2, double clat, double clong, double fe, double fn) -> OGRErr\n",
      " |  \n",
      " |  SetEckertIV(self, *args, **kwargs)\n",
      " |      SetEckertIV(SpatialReference self, double cm, double fe, double fn) -> OGRErr\n",
      " |  \n",
      " |  SetEckertVI(self, *args, **kwargs)\n",
      " |      SetEckertVI(SpatialReference self, double cm, double fe, double fn) -> OGRErr\n",
      " |  \n",
      " |  SetEquirectangular(self, *args, **kwargs)\n",
      " |      SetEquirectangular(SpatialReference self, double clat, double clong, double fe, double fn) -> OGRErr\n",
      " |  \n",
      " |  SetEquirectangular2(self, *args, **kwargs)\n",
      " |      SetEquirectangular2(SpatialReference self, double clat, double clong, double pseudostdparallellat, double fe, double fn) -> OGRErr\n",
      " |  \n",
      " |  SetFromUserInput(self, *args)\n",
      " |      SetFromUserInput(SpatialReference self, char const * name) -> OGRErr\n",
      " |  \n",
      " |  SetGEOS(self, *args, **kwargs)\n",
      " |      SetGEOS(SpatialReference self, double cm, double satelliteheight, double fe, double fn) -> OGRErr\n",
      " |  \n",
      " |  SetGH(self, *args, **kwargs)\n",
      " |      SetGH(SpatialReference self, double cm, double fe, double fn) -> OGRErr\n",
      " |  \n",
      " |  SetGS(self, *args, **kwargs)\n",
      " |      SetGS(SpatialReference self, double cm, double fe, double fn) -> OGRErr\n",
      " |  \n",
      " |  SetGaussSchreiberTMercator(self, *args, **kwargs)\n",
      " |      SetGaussSchreiberTMercator(SpatialReference self, double clat, double clong, double sc, double fe, double fn) -> OGRErr\n",
      " |  \n",
      " |  SetGeocCS(self, *args)\n",
      " |      SetGeocCS(SpatialReference self, char const * name) -> OGRErr\n",
      " |  \n",
      " |  SetGeogCS(self, *args)\n",
      " |      SetGeogCS(SpatialReference self, char const * pszGeogName, char const * pszDatumName, char const * pszEllipsoidName, double dfSemiMajor, double dfInvFlattening, char const * pszPMName, double dfPMOffset=0.0, char const * pszUnits, double dfConvertToRadians=0.0174532925199433) -> OGRErr\n",
      " |  \n",
      " |  SetGnomonic(self, *args, **kwargs)\n",
      " |      SetGnomonic(SpatialReference self, double clat, double clong, double fe, double fn) -> OGRErr\n",
      " |  \n",
      " |  SetHOM(self, *args, **kwargs)\n",
      " |      SetHOM(SpatialReference self, double clat, double clong, double azimuth, double recttoskew, double scale, double fe, double fn) -> OGRErr\n",
      " |  \n",
      " |  SetHOM2PNO(self, *args, **kwargs)\n",
      " |      SetHOM2PNO(SpatialReference self, double clat, double dfLat1, double dfLong1, double dfLat2, double dfLong2, double scale, double fe, double fn) -> OGRErr\n",
      " |  \n",
      " |  SetIGH(self, *args)\n",
      " |      SetIGH(SpatialReference self) -> OGRErr\n",
      " |  \n",
      " |  SetKrovak(self, *args, **kwargs)\n",
      " |      SetKrovak(SpatialReference self, double clat, double clong, double azimuth, double pseudostdparallellat, double scale, double fe, double fn) -> OGRErr\n",
      " |  \n",
      " |  SetLAEA(self, *args, **kwargs)\n",
      " |      SetLAEA(SpatialReference self, double clat, double clong, double fe, double fn) -> OGRErr\n",
      " |  \n",
      " |  SetLCC(self, *args, **kwargs)\n",
      " |      SetLCC(SpatialReference self, double stdp1, double stdp2, double clat, double clong, double fe, double fn) -> OGRErr\n",
      " |  \n",
      " |  SetLCC1SP(self, *args, **kwargs)\n",
      " |      SetLCC1SP(SpatialReference self, double clat, double clong, double scale, double fe, double fn) -> OGRErr\n",
      " |  \n",
      " |  SetLCCB(self, *args, **kwargs)\n",
      " |      SetLCCB(SpatialReference self, double stdp1, double stdp2, double clat, double clong, double fe, double fn) -> OGRErr\n",
      " |  \n",
      " |  SetLinearUnits(self, *args)\n",
      " |      SetLinearUnits(SpatialReference self, char const * name, double to_meters) -> OGRErr\n",
      " |  \n",
      " |  SetLinearUnitsAndUpdateParameters(self, *args)\n",
      " |      SetLinearUnitsAndUpdateParameters(SpatialReference self, char const * name, double to_meters) -> OGRErr\n",
      " |  \n",
      " |  SetLocalCS(self, *args)\n",
      " |      SetLocalCS(SpatialReference self, char const * pszName) -> OGRErr\n",
      " |  \n",
      " |  SetMC(self, *args, **kwargs)\n",
      " |      SetMC(SpatialReference self, double clat, double clong, double fe, double fn) -> OGRErr\n",
      " |  \n",
      " |  SetMercator(self, *args, **kwargs)\n",
      " |      SetMercator(SpatialReference self, double clat, double clong, double scale, double fe, double fn) -> OGRErr\n",
      " |  \n",
      " |  SetMollweide(self, *args, **kwargs)\n",
      " |      SetMollweide(SpatialReference self, double cm, double fe, double fn) -> OGRErr\n",
      " |  \n",
      " |  SetNZMG(self, *args, **kwargs)\n",
      " |      SetNZMG(SpatialReference self, double clat, double clong, double fe, double fn) -> OGRErr\n",
      " |  \n",
      " |  SetNormProjParm(self, *args)\n",
      " |      SetNormProjParm(SpatialReference self, char const * name, double val) -> OGRErr\n",
      " |  \n",
      " |  SetOS(self, *args, **kwargs)\n",
      " |      SetOS(SpatialReference self, double dfOriginLat, double dfCMeridian, double scale, double fe, double fn) -> OGRErr\n",
      " |  \n",
      " |  SetOrthographic(self, *args, **kwargs)\n",
      " |      SetOrthographic(SpatialReference self, double clat, double clong, double fe, double fn) -> OGRErr\n",
      " |  \n",
      " |  SetPS(self, *args, **kwargs)\n",
      " |      SetPS(SpatialReference self, double clat, double clong, double scale, double fe, double fn) -> OGRErr\n",
      " |  \n",
      " |  SetPolyconic(self, *args, **kwargs)\n",
      " |      SetPolyconic(SpatialReference self, double clat, double clong, double fe, double fn) -> OGRErr\n",
      " |  \n",
      " |  SetProjCS(self, *args)\n",
      " |      SetProjCS(SpatialReference self, char const * name) -> OGRErr\n",
      " |  \n",
      " |  SetProjParm(self, *args)\n",
      " |      SetProjParm(SpatialReference self, char const * name, double val) -> OGRErr\n",
      " |  \n",
      " |  SetProjection(self, *args)\n",
      " |      SetProjection(SpatialReference self, char const * arg) -> OGRErr\n",
      " |  \n",
      " |  SetRobinson(self, *args, **kwargs)\n",
      " |      SetRobinson(SpatialReference self, double clong, double fe, double fn) -> OGRErr\n",
      " |  \n",
      " |  SetSOC(self, *args, **kwargs)\n",
      " |      SetSOC(SpatialReference self, double latitudeoforigin, double cm, double fe, double fn) -> OGRErr\n",
      " |  \n",
      " |  SetSinusoidal(self, *args, **kwargs)\n",
      " |      SetSinusoidal(SpatialReference self, double clong, double fe, double fn) -> OGRErr\n",
      " |  \n",
      " |  SetStatePlane(self, *args)\n",
      " |      SetStatePlane(SpatialReference self, int zone, int is_nad83=1, char const * unitsname, double units=0.0) -> OGRErr\n",
      " |  \n",
      " |  SetStereographic(self, *args, **kwargs)\n",
      " |      SetStereographic(SpatialReference self, double clat, double clong, double scale, double fe, double fn) -> OGRErr\n",
      " |  \n",
      " |  SetTM(self, *args, **kwargs)\n",
      " |      SetTM(SpatialReference self, double clat, double clong, double scale, double fe, double fn) -> OGRErr\n",
      " |  \n",
      " |  SetTMG(self, *args, **kwargs)\n",
      " |      SetTMG(SpatialReference self, double clat, double clong, double fe, double fn) -> OGRErr\n",
      " |  \n",
      " |  SetTMSO(self, *args, **kwargs)\n",
      " |      SetTMSO(SpatialReference self, double clat, double clong, double scale, double fe, double fn) -> OGRErr\n",
      " |  \n",
      " |  SetTMVariant(self, *args, **kwargs)\n",
      " |      SetTMVariant(SpatialReference self, char const * pszVariantName, double clat, double clong, double scale, double fe, double fn) -> OGRErr\n",
      " |  \n",
      " |  SetTOWGS84(self, *args)\n",
      " |      SetTOWGS84(SpatialReference self, double p1, double p2, double p3, double p4=0.0, double p5=0.0, double p6=0.0, double p7=0.0) -> OGRErr\n",
      " |  \n",
      " |  SetTargetLinearUnits(self, *args)\n",
      " |      SetTargetLinearUnits(SpatialReference self, char const * target, char const * name, double to_meters) -> OGRErr\n",
      " |  \n",
      " |  SetUTM(self, *args)\n",
      " |      SetUTM(SpatialReference self, int zone, int north=1) -> OGRErr\n",
      " |  \n",
      " |  SetVDG(self, *args, **kwargs)\n",
      " |      SetVDG(SpatialReference self, double clong, double fe, double fn) -> OGRErr\n",
      " |  \n",
      " |  SetVertCS(self, *args)\n",
      " |      SetVertCS(SpatialReference self, char const * VertCSName, char const * VertDatumName, int VertDatumType=0) -> OGRErr\n",
      " |  \n",
      " |  SetWellKnownGeogCS(self, *args)\n",
      " |      SetWellKnownGeogCS(SpatialReference self, char const * name) -> OGRErr\n",
      " |  \n",
      " |  StripCTParms(self, *args)\n",
      " |      StripCTParms(SpatialReference self) -> OGRErr\n",
      " |  \n",
      " |  Validate(self, *args)\n",
      " |      Validate(SpatialReference self) -> OGRErr\n",
      " |  \n",
      " |  __del__ lambda self\n",
      " |  \n",
      " |  __getattr__ lambda self, name\n",
      " |  \n",
      " |  __init__(self, *args, **kwargs)\n",
      " |      __init__(OSRSpatialReferenceShadow self, char const * wkt) -> SpatialReference\n",
      " |  \n",
      " |  __repr__ = _swig_repr(self)\n",
      " |  \n",
      " |  __setattr__ lambda self, name, value\n",
      " |  \n",
      " |  __str__(self, *args)\n",
      " |      __str__(SpatialReference self) -> retStringAndCPLFree *\n",
      " |  \n",
      " |  __swig_destroy__ = delete_SpatialReference(...)\n",
      " |      delete_SpatialReference(SpatialReference self)\n",
      " |  \n",
      " |  ----------------------------------------------------------------------\n",
      " |  Data descriptors defined here:\n",
      " |  \n",
      " |  __dict__\n",
      " |      dictionary for instance variables (if defined)\n",
      " |  \n",
      " |  __weakref__\n",
      " |      list of weak references to the object (if defined)\n",
      " |  \n",
      " |  ----------------------------------------------------------------------\n",
      " |  Data and other attributes defined here:\n",
      " |  \n",
      " |  __swig_getmethods__ = {}\n",
      " |  \n",
      " |  __swig_setmethods__ = {}\n",
      "\n"
     ]
    }
   ],
   "source": [
    "help(tifSpatialRef)"
   ]
  },
  {
   "cell_type": "code",
   "execution_count": 158,
   "metadata": {},
   "outputs": [
    {
     "data": {
      "text/plain": [
       "1"
      ]
     },
     "execution_count": 158,
     "metadata": {},
     "output_type": "execute_result"
    }
   ],
   "source": [
    "tifSpatialRef.IsProjected()"
   ]
  },
  {
   "cell_type": "code",
   "execution_count": 167,
   "metadata": {},
   "outputs": [
    {
     "data": {
      "text/plain": [
       "'Lambert_Azimuthal_Equal_Area'"
      ]
     },
     "execution_count": 167,
     "metadata": {},
     "output_type": "execute_result"
    }
   ],
   "source": [
    "tifSpatialRef.GetAttrValue('PROJECTION')"
   ]
  },
  {
   "cell_type": "code",
   "execution_count": 179,
   "metadata": {},
   "outputs": [
    {
     "data": {
      "text/plain": [
       "0.0"
      ]
     },
     "execution_count": 179,
     "metadata": {},
     "output_type": "execute_result"
    }
   ],
   "source": [
    "tifSpatialRef.GetProjParm('UNIT')"
   ]
  },
  {
   "cell_type": "code",
   "execution_count": 174,
   "metadata": {},
   "outputs": [
    {
     "name": "stdout",
     "output_type": "stream",
     "text": [
      "None\n"
     ]
    }
   ],
   "source": [
    "print(tifSpatialRef.GetAttrValue('PARAMR'))"
   ]
  },
  {
   "cell_type": "code",
   "execution_count": 168,
   "metadata": {},
   "outputs": [
    {
     "data": {
      "text/plain": [
       "90.0"
      ]
     },
     "execution_count": 168,
     "metadata": {},
     "output_type": "execute_result"
    }
   ],
   "source": [
    "tifSpatialRef.GetProjParm('latitude_of_center')"
   ]
  },
  {
   "cell_type": "code",
   "execution_count": 170,
   "metadata": {},
   "outputs": [
    {
     "data": {
      "text/plain": [
       "(6371228.0, 6371228.0)"
      ]
     },
     "execution_count": 170,
     "metadata": {},
     "output_type": "execute_result"
    }
   ],
   "source": [
    "tifSpatialRef.GetSemiMajor(), tifSpatialRef.GetSemiMinor()"
   ]
  },
  {
   "cell_type": "code",
   "execution_count": 184,
   "metadata": {},
   "outputs": [
    {
     "data": {
      "text/plain": [
       "(1.0, 'metre', 0.0, 'degree')"
      ]
     },
     "execution_count": 184,
     "metadata": {},
     "output_type": "execute_result"
    }
   ],
   "source": [
    "tifSpatialRef.GetLinearUnits(), tifSpatialRef.GetLinearUnitsName(), tifSpatialRef.GetInvFlattening(), tifSpatialRef.GetAngularUnitsName()"
   ]
  },
  {
   "cell_type": "code",
   "execution_count": 181,
   "metadata": {},
   "outputs": [
    {
     "data": {
      "text/plain": [
       "'PROJCS[\"unnamed\",\\n    GEOGCS[\"unknown\",\\n        DATUM[\"unknown\",\\n            SPHEROID[\"unnamed\",6371228,0]],\\n        PRIMEM[\"Greenwich\",0],\\n        UNIT[\"degree\",0.0174532925199433]],\\n    PROJECTION[\"Lambert_Azimuthal_Equal_Area\"],\\n    PARAMETER[\"latitude_of_center\",90],\\n    PARAMETER[\"longitude_of_center\",0],\\n    PARAMETER[\"false_easting\",0],\\n    PARAMETER[\"false_northing\",0],\\n    UNIT[\"metre\",1,\\n        AUTHORITY[\"EPSG\",\"9001\"]]]'"
      ]
     },
     "execution_count": 181,
     "metadata": {},
     "output_type": "execute_result"
    }
   ],
   "source": [
    "str(tifSpatialRef)"
   ]
  },
  {
   "cell_type": "markdown",
   "metadata": {},
   "source": [
    "#### Other packages that might be useful\n",
    "* [rasterio](http://xarray.pydata.org/en/stable/auto_gallery/plot_rasterio.html#sphx-glr-auto-gallery-plot-rasterio-py)\n",
    "* [xarray](http://xarray.pydata.org/en/stable/generated/xarray.open_rasterio.html)\n",
    "* [affine]\n",
    "* [glob]"
   ]
  },
  {
   "cell_type": "code",
   "execution_count": 104,
   "metadata": {},
   "outputs": [
    {
     "data": {
      "text/plain": [
       "(-5386000.000000001, 1000.0, 0.0, 470999.99999999953, 0.0, -1000.0)"
      ]
     },
     "execution_count": 104,
     "metadata": {},
     "output_type": "execute_result"
    }
   ],
   "source": [
    "path = \"../UW_NA_LST_7.1.1_001_2008.10.1_0.0.0_2008.10.31_23.59.59_NA_001_copy.tif\"\n",
    "ds = gdal.Open(path)\n",
    "gt = ds.GetGeoTransform()\n",
    "gt"
   ]
  },
  {
   "cell_type": "code",
   "execution_count": 113,
   "metadata": {},
   "outputs": [
    {
     "data": {
      "text/plain": [
       "3"
      ]
     },
     "execution_count": 113,
     "metadata": {},
     "output_type": "execute_result"
    }
   ],
   "source": [
    "ds.SetGeoTransform([-5386000.000000001, 1000.0, -1000.0, 470999.99999999953, -1000.0, -1000.0])"
   ]
  },
  {
   "cell_type": "code",
   "execution_count": 114,
   "metadata": {},
   "outputs": [],
   "source": [
    "ds.FlushCache()"
   ]
  },
  {
   "cell_type": "code",
   "execution_count": 115,
   "metadata": {},
   "outputs": [
    {
     "data": {
      "text/plain": [
       "(-5386000.000000001, 1000.0, 0.0, 470999.99999999953, 0.0, -1000.0)"
      ]
     },
     "execution_count": 115,
     "metadata": {},
     "output_type": "execute_result"
    }
   ],
   "source": [
    "ds.GetGeoTransform()"
   ]
  },
  {
   "cell_type": "code",
   "execution_count": 153,
   "metadata": {},
   "outputs": [],
   "source": [
    "path = \"../UW_NA_LST_7.1.1_001_2008.10.1_0.0.0_2008.10.31_23.59.59_NA_001_copy.tif\"\n",
    "ds = gdal.Open(path)\n",
    "driver = gdal.GetDriverByName(\"GTiff\")\n",
    "outdata = driver.CreateCopy(\"outFileName4.tif\", ds)\n",
    "outdata.SetGeoTransform([-5386000.000000001, 1000.0, 9000.0, 470999.99999999953, 9000.0, -1000.0])##sets same geotransform as input\n",
    "# outdata.SetProjection(ds.GetProjection())##sets same projection as input\n",
    "# outdata.GetRasterBand(1).WriteArray(arr)\n",
    "# outdata.GetRasterBand(1).SetNoDataValue(10000)##if you want these values transparent\n",
    "outdata.FlushCache() ##saves to disk!!\n",
    "outdata = None\n",
    "band=None\n",
    "ds=None"
   ]
  },
  {
   "cell_type": "code",
   "execution_count": 154,
   "metadata": {},
   "outputs": [
    {
     "data": {
      "text/plain": [
       "(-5386000.000000001, 1000.0, 9000.0, 470999.99999999953, 9000.0, -1000.0)"
      ]
     },
     "execution_count": 154,
     "metadata": {},
     "output_type": "execute_result"
    }
   ],
   "source": [
    "ds_out = gdal.Open(\"outFileName4.tif\")\n",
    "ds_out.GetGeoTransform()"
   ]
  },
  {
   "cell_type": "code",
   "execution_count": null,
   "metadata": {},
   "outputs": [],
   "source": []
  }
 ],
 "metadata": {
  "kernelspec": {
   "display_name": "Python 3",
   "language": "python",
   "name": "python3"
  },
  "language_info": {
   "codemirror_mode": {
    "name": "ipython",
    "version": 3
   },
   "file_extension": ".py",
   "mimetype": "text/x-python",
   "name": "python",
   "nbconvert_exporter": "python",
   "pygments_lexer": "ipython3",
   "version": "3.5.2"
  }
 },
 "nbformat": 4,
 "nbformat_minor": 2
}
