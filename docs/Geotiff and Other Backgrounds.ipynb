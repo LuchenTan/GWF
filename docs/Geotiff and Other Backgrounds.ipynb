{
 "cells": [
  {
   "cell_type": "markdown",
   "metadata": {},
   "source": [
    "# GeoTIFF\n",
    "GeoTIFF (Georeferenced Tagged Image File Format) is an public **raster** data file format```.tif```. It embeds spatial(georeferencing) information within a **TIFF** file. The potential additional information includes **map projection**, **coordinate systems**, **ellipsoids**, **datums** and everything else necessary to establish the exact spatial reference for the file. "
   ]
  },
  {
   "cell_type": "markdown",
   "metadata": {},
   "source": [
    "## 1. What is raster format?\n",
    "There are two main type of image files: **raster** and **vector**. [cited here](https://vector-conversions.com/vectorizing/raster_vs_vector.html) \n",
    "* Raster images are created with pixel-based programs or captured with a camera or scanner (e.g. jpg, gif, png). A pixel is a single point or the smallest single element in a display device. If you zoom in to a raster image, you may start to see a lot of little tiny squares.\n",
    "* Vector graphics are created with vector software and are commonly applied onto a physical product (e.g. used in CAD, engineering). Vector images are mathematical calculations from one point to another that form lines and shapes. If you zoom into a vector graphic, it will always look the same. "
   ]
  },
  {
   "cell_type": "markdown",
   "metadata": {},
   "source": [
    "## 2. From TIFF to GeoTIFF\n",
    "[cited here](https://www.geospatialworld.net/article/geotiff-a-standard-image-file-format-for-gis-applications/).\n",
    "\n",
    "TIFF(Tagged Image File Format) stores raster images(```.tif```). In each .tif file, there are raster data layer(s)(can have more than one raster image) with a set of TIFF tags. Tags can indicate some basic geometry info of the image, such as width, length, compression scheme used, colorspace, resolution, etc. \n",
    "\n",
    "GeoTIFF embeds extra geographic information for GIS (Geographic information system) usage, such as latitude, longitude, projected coordinate systems, model space, etc. It explains: \n",
    "* what area does this dataset cover?\n",
    "* what spatial projection/coordinate reference system is used to store the data?\n",
    "* what area on the ground does each pixel cover? what is its spatial resolution?\n",
    "* how many layers are in the .tif file?"
   ]
  },
  {
   "cell_type": "markdown",
   "metadata": {},
   "source": [
    "## 3. Some knowledge of Geographic\n",
    "### [Geographic Coordinate System](https://en.wikipedia.org/wiki/Geographic_coordinate_system)\n",
    "Geographic Coordinate System is a coordinate system with latitude, longitude and height. Earth is not a sphere, but an irregular shape approximating a biaxial ellipsoid. It is nearly spherical. Also the surface of earch is not flat. In order to be unambiguous about the vertical and surface when we are describing the earth, we need to choose a **reference ellipsoid** and a **datum**. \n",
    "\n",
    "### [Map Projection](http://kartoweb.itc.nl/geometrics/Map%20projections/body.htm)\n",
    "The Eurth's surface is curved in a specific way. To represent some part of the planet to a flat two-dimensional paper map or on a computer screen requires a map projection. Mpping onto a 2D plane means transforming each point on the reference surface with geographic coordinates to a set of Cartesian coordinates(x, y) representing positions on the map plane. Different mapping equations have different parameters.\n",
    "\n",
    "Different map projections can be described in terms of their: see [here](http://kartoweb.itc.nl/geometrics/Map%20projections/body.htm)\n",
    "1. class (cylindrical, conical or azimuthal)\n",
    "2. point of secancy (tangenent or secant\n",
    "3. aspect (normal, transverse or oblique), and\n",
    "4. distortion property (equal-area, equidistant or conformal).\n",
    "\n",
    "Another descriptor of a map projection might be the name of the inventor (or first publisher) of the projection, such as Mercator, Lambert, Robinson, Cassini etc.. For example:\n",
    "* Lambert conformal conic projection\n",
    "* Lambert azimuthal equal-area projection\n",
    "* Polar stereographic azimuthal projection"
   ]
  },
  {
   "cell_type": "markdown",
   "metadata": {},
   "source": [
    "There are lots of different ways to describe a projection:\n",
    "* [Well Known Text (WKT)](http://en.wikipedia.org/wiki/Well-known_text)\n",
    "```\n",
    "PROJCS[\"UTM Zone 12, Northern Hemisphere\",GEOGCS[\"WGS_1984\",DATUM[\"WGS_1984\",SPHEROID[\"WGS 84\",6378137,298.2572235630016],TOWGS84[0,0,0,0,0,0,0]],PRIMEM[ \"Greenwich\",0],UNIT[\"degree\",0.0174532925199433],AUTHORITY[\"EP SG\",\"4326\"]],PROJECTION[\"Transverse_Mercator\"],PARAMETER[\"lati tude_of_origin\",0],PARAMETER[\"central_meridian\",- 111],PARAMETER[\"scale_factor\",0.9996],PARAMETER[\"false_easting \",500000],PARAMETER[\"false_northing\",0],UNIT[\"Meter\",1],AUTHOR ITY[\"EPSG\",\"32612\"]]\n",
    "```\n",
    "* [PROJ.4](https://en.wikipedia.org/wiki/PROJ.4)\n",
    "```\n",
    "+proj=utm +zone=12 +ellps=WGS84 +datum=WGS84 +units=m +no_defs\n",
    "```\n",
    "* [EPSG (European Petroleum Survey Group)](https://en.wikipedia.org/wiki/EPSG)\n",
    "```\n",
    "EPSG:32612\n",
    "```\n",
    "* [USGS (United States Geological Survey)](https://en.wikipedia.org/wiki/United_States_Geological_Survey)\n",
    "```\n",
    "(1, 12, (0.0, 0.0, 0.0, 0.0, 0.0, 0.0, 0.0, 0.0, 0.0, 0.0, 0.0, 0.0, 0.0, 0.0, 0.0), 12)\n",
    "```\n",
    "* [ESRI .prj file](https://vsp.pnnl.gov/help/vsample/ESRI_PRJ_File.htm)(Environmental Systems Research Institute)\n",
    "* PCI software\n",
    "```\n",
    "('UTM 12 D000', 'METRE', (0.0, 0.0, 0.0, 0.0, 0.0, 0.0, 0.0, 0.0, 0.0, 0.0, 0.0, 0.0, 0.0, 0.0, 0.0, 0.0, 0.0))\n",
    "```\n",
    "* XML"
   ]
  },
  {
   "cell_type": "markdown",
   "metadata": {},
   "source": [
    "## 4. Reading/Writing GeoTIFF (GDAL)\n",
    "[GDAL](http://gdal.org) (Geospatial Data Abstraction Library) is an open source translator library for raster and vector geospatial data formats. The related OGR library (OGR simple features library) is part of the GDAL source tree, provides a similar ability for simple features vector graphics data.\n",
    "\n",
    "### Install GDAL\n",
    "*Directly using apt-get to install gdal-bin will get an old version of libgdal-dev (v. 1.11.3), which includes some development packages for different languages.*\n",
    "\n",
    "To get the latest GDAL/OGR version, add the PPA to your sources, then install the gdal-bin package (this should automatically grab any necessary dependencies, including at least the relevant libgdal version). "
   ]
  },
  {
   "cell_type": "code",
   "execution_count": null,
   "metadata": {},
   "outputs": [],
   "source": [
    "! sudo add-apt-repository ppa:ubuntugis/ppa\n",
    "! sudo apt-get update\n",
    "! sudo apt-get install gdal-bin"
   ]
  },
  {
   "cell_type": "markdown",
   "metadata": {},
   "source": [
    "#### Command line utility tools"
   ]
  },
  {
   "cell_type": "markdown",
   "metadata": {},
   "source": [
    "```gdalinfo``` report information about a file\n",
    "\n",
    "```gdal_traslate``` copy a raster file, with control of output format"
   ]
  },
  {
   "cell_type": "markdown",
   "metadata": {},
   "source": [
    "**Some tips of the current project**\n",
    "\n",
    "*I tried to use ```gdal_translate``` to achieve GeoTiff to NetCDF at the beginning. However, the auto translation can not satisfy the requirement of the desired NetCDF dataset for a couple reasons.*\n",
    "\n",
    "1. The data variable need to be meaningfully named. Its attributes should be manually added to conform CF conventions.\n",
    "2. An unlimited time dimension needs to be added. Moreover, the time dimension needs to be added to the data variable. \n",
    "3. To conform CF conventions, the latitude and longitude auxiliary coordinate variables should be supplied. It means that we need to unproject the projection coordinate system of GeoTiff. \n",
    "4. The auto translation includes some unnecessary TIFF TAGS, which were asked to be removed. \n"
   ]
  },
  {
   "cell_type": "markdown",
   "metadata": {},
   "source": [
    "### Python GDAL/OGR"
   ]
  },
  {
   "cell_type": "markdown",
   "metadata": {},
   "source": [
    "Some useful examples:\n",
    "* [Python GDAL/OGR Cookbook](https://pcjericks.github.io/py-gdalogr-cookbook/)\n",
    "* [Posts on osgeo.cn(Chinese)](http://www.osgeo.cn/leaf/7156g)\n",
    "* [python gdal tutorial(Chinese)](http://www.osgeo.cn/python_gdal_utah_tutorial/ch05.html)"
   ]
  },
  {
   "cell_type": "code",
   "execution_count": 24,
   "metadata": {},
   "outputs": [],
   "source": [
    "import sys\n",
    "import numpy as np\n",
    "## before v1.5\n",
    "import gdal\n",
    "## after v1.6\n",
    "from osgeo import gdal\n",
    "\n",
    "fn = '../UW_NA_LST_7.1.1_001_2008.10.1_0.0.0_2008.10.31_23.59.59_NA_001.tif'\n",
    "## open dataset\n",
    "ds = gdal.Open(fn)\n",
    "\n",
    "## Handle error\n",
    "if ds is None:\n",
    "    print ('Could not open ' + fn)\n",
    "    sys.exit(1)"
   ]
  },
  {
   "cell_type": "markdown",
   "metadata": {},
   "source": [
    "#### Get Metadata\n",
    "Metadata includes: (*Not all of these TIFF TAGS are supposed to be shown in netCDF dataset)\n",
    "* TIFFTAG_DOCUMENTNAME\n",
    "* TIFFTAG_IMAGEDESCRIPTION\n",
    "* TIFFTAG_SOFTWARE\n",
    "* TIFFTAG_DATETIME\n",
    "* TIFFTAG_ARTIST\n",
    "* TIFFTAG_HOSTCOMPUTER\n",
    "* TIFFTAG_COPYRIGHT\n",
    "* TIFFTAG_XRESOLUTION\n",
    "* TIFFTAG_YRESOLUTION\n",
    "* TIFFTAG_RESOLUTIONUNIT\n",
    "* TIFFTAG_MINSAMPLEVALUE (read only)\n",
    "* TIFFTAG_MAXSAMPLEVALUE (read only)"
   ]
  },
  {
   "cell_type": "code",
   "execution_count": 2,
   "metadata": {},
   "outputs": [
    {
     "data": {
      "text/plain": [
       "{'AREA_OR_POINT': 'Area',\n",
       " 'TIFFTAG_DATETIME': '2018:02:13 13:18:46',\n",
       " 'TIFFTAG_DOCUMENTNAME': 'C:\\\\Users\\\\h2kheyro\\\\Documents\\\\Data_Analysis\\\\Great Lakes\\\\LST\\\\MonthlyAve2/UW_NA_LST_7.1.1_001_2008.10.1_0.0.0_2008.10.31_23.59.59_NA_001.tif',\n",
       " 'TIFFTAG_IMAGEDESCRIPTION': 'IDL TIFF file',\n",
       " 'TIFFTAG_RESOLUTIONUNIT': '2 (pixels/inch)',\n",
       " 'TIFFTAG_SOFTWARE': 'IDL 7.1.2, ITT Visual Information Solutions',\n",
       " 'TIFFTAG_XRESOLUTION': '100',\n",
       " 'TIFFTAG_YRESOLUTION': '100'}"
      ]
     },
     "execution_count": 2,
     "metadata": {},
     "output_type": "execute_result"
    }
   ],
   "source": [
    "ds.GetMetadata()"
   ]
  },
  {
   "cell_type": "markdown",
   "metadata": {},
   "source": [
    "#### Get Raster Description"
   ]
  },
  {
   "cell_type": "code",
   "execution_count": 4,
   "metadata": {},
   "outputs": [
    {
     "data": {
      "text/plain": [
       "'../UW_NA_LST_7.1.1_001_2008.10.1_0.0.0_2008.10.31_23.59.59_NA_001.tif'"
      ]
     },
     "execution_count": 4,
     "metadata": {},
     "output_type": "execute_result"
    }
   ],
   "source": [
    "ds.GetDescription()"
   ]
  },
  {
   "cell_type": "markdown",
   "metadata": {},
   "source": [
    "#### Get the count of raster images"
   ]
  },
  {
   "cell_type": "code",
   "execution_count": 36,
   "metadata": {},
   "outputs": [
    {
     "data": {
      "text/plain": [
       "1"
      ]
     },
     "execution_count": 36,
     "metadata": {},
     "output_type": "execute_result"
    }
   ],
   "source": [
    "band_cnt = ds.RasterCount\n",
    "band_cnt"
   ]
  },
  {
   "cell_type": "markdown",
   "metadata": {},
   "source": [
    "#### Get size of the image (number of pixels on X axis and Y axis)"
   ]
  },
  {
   "cell_type": "code",
   "execution_count": 8,
   "metadata": {},
   "outputs": [
    {
     "data": {
      "text/plain": [
       "(1299, 1956)"
      ]
     },
     "execution_count": 8,
     "metadata": {},
     "output_type": "execute_result"
    }
   ],
   "source": [
    "img_width = ds.RasterXSize\n",
    "img_height = ds.RasterYSize\n",
    "img_width, img_height"
   ]
  },
  {
   "cell_type": "markdown",
   "metadata": {},
   "source": [
    "#### Get Georeference Info (GeoTransform)\n",
    "```GeoTransform()``` is a list, storing the pixel location of a geospatial coordinate. \n",
    "* ```GeoTransform()[0]```  top left x \n",
    "* ```GeoTransform()[1]```  west-east direction pixel resolution\n",
    "* ```GeoTransform()[2]```  rotation, **0 if image is \"north up\"** \n",
    "* ```GeoTransform()[3]```  top left y \n",
    "* ```GeoTransform()[4]```  rotation, 0 if image is \"north up\" /*如果北边朝上，地图的旋转角度*/\n",
    "* ```GeoTransform()[5]```  north-south direction pixel resolution\n",
    "\n",
    "**NOTE**: the north-sourth direction resolution is a negative value."
   ]
  },
  {
   "cell_type": "code",
   "execution_count": 22,
   "metadata": {},
   "outputs": [
    {
     "data": {
      "text/plain": [
       "(-5386000.000000001, 1000.0, 0.0, 470999.99999999953, 0.0, -1000.0)"
      ]
     },
     "execution_count": 22,
     "metadata": {},
     "output_type": "execute_result"
    }
   ],
   "source": [
    "x_topleft, x_res, dx_dy, y_topleft, dy_dx, y_res= ds.GetGeoTransform()\n",
    "x_topleft, x_res, dx_dy, y_topleft, dy_dx, y_res"
   ]
  },
  {
   "cell_type": "markdown",
   "metadata": {},
   "source": [
    "#### Get x and y values\n",
    "To get the pixel offsets of a particular pixel(x, y), which is the offset from the top left pixel (suppose we know x and y)"
   ]
  },
  {
   "cell_type": "code",
   "execution_count": null,
   "metadata": {},
   "outputs": [],
   "source": [
    "x_offset = int((x - x_topleft) / x_res)\n",
    "y_offset = int((y - y_topleft) / y_res)"
   ]
  },
  {
   "cell_type": "markdown",
   "metadata": {},
   "source": [
    "To get the x array and y array"
   ]
  },
  {
   "cell_type": "code",
   "execution_count": 59,
   "metadata": {},
   "outputs": [
    {
     "data": {
      "text/plain": [
       "(array([-5386000., -5385000., -5384000., ..., -4090000., -4089000.,\n",
       "        -4088000.]),\n",
       " array([  471000.,   470000.,   469000., ..., -1482000., -1483000.,\n",
       "        -1484000.]))"
      ]
     },
     "execution_count": 59,
     "metadata": {},
     "output_type": "execute_result"
    }
   ],
   "source": [
    "xcoordinates = np.arange(start=x_topleft, stop=x_topleft+x_res*img_width, step=x_res)\n",
    "ycoordinates = np.arange(start=y_topleft, stop=y_topleft+y_res*img_height, step=y_res)\n",
    "xcoordinates, ycoordinates"
   ]
  },
  {
   "cell_type": "markdown",
   "metadata": {},
   "source": [
    "#### Get Raster Band(s)\n",
    "```GetRasterBand(band_num)``` The ```band_num``` starts from ```1```. "
   ]
  },
  {
   "cell_type": "code",
   "execution_count": 35,
   "metadata": {
    "scrolled": true
   },
   "outputs": [
    {
     "data": {
      "text/plain": [
       "(1956, 1299)"
      ]
     },
     "execution_count": 35,
     "metadata": {},
     "output_type": "execute_result"
    }
   ],
   "source": [
    "band = ds.GetRasterBand(1)\n",
    "data = band.ReadAsArray()\n",
    "len(data), len(data[0])"
   ]
  },
  {
   "cell_type": "markdown",
   "metadata": {},
   "source": [
    "**NOTE**: the rows and cols of raster data are opposite of the rows and cols of mathimatical matrix. \n",
    "\n",
    "For example, here RasterXSize is 1299, means there are columns in the matrix. Thus, taking a pixel from data array using offsets should be data[yoffset, xoffset]."
   ]
  },
  {
   "cell_type": "markdown",
   "metadata": {},
   "source": [
    "#### Get Projection Information"
   ]
  },
  {
   "cell_type": "code",
   "execution_count": 44,
   "metadata": {},
   "outputs": [
    {
     "data": {
      "text/plain": [
       "'PROJCS[\"unnamed\",GEOGCS[\"unknown\",DATUM[\"unknown\",SPHEROID[\"unnamed\",6371228,0]],PRIMEM[\"Greenwich\",0],UNIT[\"degree\",0.0174532925199433]],PROJECTION[\"Lambert_Azimuthal_Equal_Area\"],PARAMETER[\"latitude_of_center\",90],PARAMETER[\"longitude_of_center\",0],PARAMETER[\"false_easting\",0],PARAMETER[\"false_northing\",0],UNIT[\"metre\",1,AUTHORITY[\"EPSG\",\"9001\"]]]'"
      ]
     },
     "execution_count": 44,
     "metadata": {},
     "output_type": "execute_result"
    }
   ],
   "source": [
    "prj = ds.GetProjection() # get the projection info in WKT\n",
    "prj"
   ]
  },
  {
   "cell_type": "markdown",
   "metadata": {},
   "source": [
    "#### Unprojecting projection coordinate system to geographic coordinate system\n",
    "There might be multiple ways to achieve the unprojection.\n",
    "#### 1. osgeo\n",
    "**WGS-84 geographic spatial reference system(EPSG 4326)**"
   ]
  },
  {
   "cell_type": "code",
   "execution_count": 48,
   "metadata": {},
   "outputs": [
    {
     "data": {
      "text/plain": [
       "0"
      ]
     },
     "execution_count": 48,
     "metadata": {},
     "output_type": "execute_result"
    }
   ],
   "source": [
    "from osgeo import osr\n",
    "\n",
    "# get the original GeoTIFFSpatialReference\n",
    "tifSpatialRef = osr.SpatialReference()\n",
    "tifSpatialRef.ImportFromWkt(prj)"
   ]
  },
  {
   "cell_type": "code",
   "execution_count": 60,
   "metadata": {},
   "outputs": [
    {
     "data": {
      "text/plain": [
       "(-94.99774138723588, 39.787958548172064, 0.0)"
      ]
     },
     "execution_count": 60,
     "metadata": {},
     "output_type": "execute_result"
    }
   ],
   "source": [
    "# Define a new spatial reference, which is the lat/lon geographic spatial reference\n",
    "geoSpatialRef = osr.SpatialReference()\n",
    "geoSpatialRef.ImportFromEPSG(4326)\n",
    "\n",
    "# define the coordinate transformation\n",
    "transform = osr.CoordinateTransformation(tifSpatialRef, geoSpatialRef)\n",
    "\n",
    "transform.TransformPoint(xcoordinates[0], ycoordinates[0])"
   ]
  },
  {
   "cell_type": "markdown",
   "metadata": {},
   "source": [
    "But the ```TransformPoint``` has to be done point by point. So it's not convinient. "
   ]
  },
  {
   "cell_type": "markdown",
   "metadata": {},
   "source": [
    "#### 2. PyProj"
   ]
  },
  {
   "cell_type": "code",
   "execution_count": 71,
   "metadata": {},
   "outputs": [],
   "source": [
    "import pyproj\n",
    "\n",
    "proj4 = tifSpatialRef.ExportToProj4()\n",
    "inproj = pyproj.Proj(proj4)\n",
    "\n",
    "xv, yv = np.meshgrid(xcoordinates, ycoordinates)\n",
    "lons, lats = inproj(xv, yv, inverse=True)\n",
    "# the inverse tag is for indicating the direction of projection\n",
    "# lat/lon to other coordinate systems: inverse=False\n",
    "# other to lat/lon: inverse=True"
   ]
  },
  {
   "cell_type": "markdown",
   "metadata": {},
   "source": [
    "#### Other packages that might be useful\n",
    "* [rasterio](http://xarray.pydata.org/en/stable/auto_gallery/plot_rasterio.html#sphx-glr-auto-gallery-plot-rasterio-py)\n",
    "* [xarray](http://xarray.pydata.org/en/stable/generated/xarray.open_rasterio.html)\n",
    "* [affine]\n",
    "* [glob]"
   ]
  },
  {
   "cell_type": "code",
   "execution_count": 73,
   "metadata": {},
   "outputs": [
    {
     "data": {
      "text/plain": [
       "array([[  471000.,   471000.,   471000., ...,   471000.,   471000.,\n",
       "          471000.],\n",
       "       [  470000.,   470000.,   470000., ...,   470000.,   470000.,\n",
       "          470000.],\n",
       "       [  469000.,   469000.,   469000., ...,   469000.,   469000.,\n",
       "          469000.],\n",
       "       ...,\n",
       "       [-1482000., -1482000., -1482000., ..., -1482000., -1482000.,\n",
       "        -1482000.],\n",
       "       [-1483000., -1483000., -1483000., ..., -1483000., -1483000.,\n",
       "        -1483000.],\n",
       "       [-1484000., -1484000., -1484000., ..., -1484000., -1484000.,\n",
       "        -1484000.]])"
      ]
     },
     "execution_count": 73,
     "metadata": {},
     "output_type": "execute_result"
    }
   ],
   "source": [
    "yv"
   ]
  },
  {
   "cell_type": "code",
   "execution_count": 74,
   "metadata": {},
   "outputs": [
    {
     "data": {
      "text/plain": [
       "array([[  471000.,   470000.,   469000., ..., -1482000., -1483000.,\n",
       "        -1484000.],\n",
       "       [  471000.,   470000.,   469000., ..., -1482000., -1483000.,\n",
       "        -1484000.],\n",
       "       [  471000.,   470000.,   469000., ..., -1482000., -1483000.,\n",
       "        -1484000.],\n",
       "       ...,\n",
       "       [  471000.,   470000.,   469000., ..., -1482000., -1483000.,\n",
       "        -1484000.],\n",
       "       [  471000.,   470000.,   469000., ..., -1482000., -1483000.,\n",
       "        -1484000.],\n",
       "       [  471000.,   470000.,   469000., ..., -1482000., -1483000.,\n",
       "        -1484000.]])"
      ]
     },
     "execution_count": 74,
     "metadata": {},
     "output_type": "execute_result"
    }
   ],
   "source": [
    "np.rot90(yv)"
   ]
  },
  {
   "cell_type": "code",
   "execution_count": 77,
   "metadata": {},
   "outputs": [
    {
     "data": {
      "text/plain": [
       "1956"
      ]
     },
     "execution_count": 77,
     "metadata": {},
     "output_type": "execute_result"
    }
   ],
   "source": [
    "len(data)"
   ]
  },
  {
   "cell_type": "code",
   "execution_count": 78,
   "metadata": {},
   "outputs": [
    {
     "data": {
      "text/plain": [
       "1299"
      ]
     },
     "execution_count": 78,
     "metadata": {},
     "output_type": "execute_result"
    }
   ],
   "source": [
    "len(np.rot90(data))"
   ]
  },
  {
   "cell_type": "code",
   "execution_count": null,
   "metadata": {},
   "outputs": [],
   "source": []
  }
 ],
 "metadata": {
  "kernelspec": {
   "display_name": "Python 3",
   "language": "python",
   "name": "python3"
  },
  "language_info": {
   "codemirror_mode": {
    "name": "ipython",
    "version": 3
   },
   "file_extension": ".py",
   "mimetype": "text/x-python",
   "name": "python",
   "nbconvert_exporter": "python",
   "pygments_lexer": "ipython3",
   "version": "3.5.2"
  }
 },
 "nbformat": 4,
 "nbformat_minor": 2
}
