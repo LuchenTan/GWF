{
 "cells": [
  {
   "cell_type": "markdown",
   "metadata": {},
   "source": [
    "# NetCDF\n",
    "## 1. What is NetCDF?\n",
    "The Network Comman Data Form, or [NetCDF](https://www.unidata.ucar.edu/software/netcdf/docs/) is **a set of software libraries** \n",
    "and self-describing, machine-independant **data formats**. It supports the creation, access and sharing of scientific data. \n",
    "\n",
    "To make data \"self-describing\" and meaningful to both humans and machines, the names, units of measure and other metadata should be meaningful and conform to **Conventions**. "
   ]
  },
  {
   "cell_type": "markdown",
   "metadata": {},
   "source": [
    "## 2. How to install NetCDF?\n",
    "To install NetCDF is to install the base NetCDF libraries and associated tools. \n",
    "\n",
    "Setting up NetCDF on Ubuntu follows [here](https://skygiant.com.au/setting-up-netcdf-on-ubuntu/)."
   ]
  },
  {
   "cell_type": "code",
   "execution_count": 36,
   "metadata": {},
   "outputs": [
    {
     "name": "stdout",
     "output_type": "stream",
     "text": [
      "[sudo] password for l8tan: \n",
      "[sudo] password for l8tan: \n"
     ]
    },
    {
     "ename": "KeyboardInterrupt",
     "evalue": "",
     "output_type": "error",
     "traceback": [
      "\u001b[0;31m---------------------------------------------------------------------------\u001b[0m",
      "\u001b[0;31mKeyboardInterrupt\u001b[0m                         Traceback (most recent call last)",
      "\u001b[0;32m~/.local/lib/python3.5/site-packages/IPython/utils/_process_posix.py\u001b[0m in \u001b[0;36msystem\u001b[0;34m(self, cmd)\u001b[0m\n\u001b[1;32m    160\u001b[0m                 \u001b[0;31m# know whether we've finished (if we matched EOF) or not\u001b[0m\u001b[0;34m\u001b[0m\u001b[0;34m\u001b[0m\u001b[0m\n\u001b[0;32m--> 161\u001b[0;31m                 \u001b[0mres_idx\u001b[0m \u001b[0;34m=\u001b[0m \u001b[0mchild\u001b[0m\u001b[0;34m.\u001b[0m\u001b[0mexpect_list\u001b[0m\u001b[0;34m(\u001b[0m\u001b[0mpatterns\u001b[0m\u001b[0;34m,\u001b[0m \u001b[0mself\u001b[0m\u001b[0;34m.\u001b[0m\u001b[0mread_timeout\u001b[0m\u001b[0;34m)\u001b[0m\u001b[0;34m\u001b[0m\u001b[0m\n\u001b[0m\u001b[1;32m    162\u001b[0m                 \u001b[0mprint\u001b[0m\u001b[0;34m(\u001b[0m\u001b[0mchild\u001b[0m\u001b[0;34m.\u001b[0m\u001b[0mbefore\u001b[0m\u001b[0;34m[\u001b[0m\u001b[0mout_size\u001b[0m\u001b[0;34m:\u001b[0m\u001b[0;34m]\u001b[0m\u001b[0;34m.\u001b[0m\u001b[0mdecode\u001b[0m\u001b[0;34m(\u001b[0m\u001b[0menc\u001b[0m\u001b[0;34m,\u001b[0m \u001b[0;34m'replace'\u001b[0m\u001b[0;34m)\u001b[0m\u001b[0;34m,\u001b[0m \u001b[0mend\u001b[0m\u001b[0;34m=\u001b[0m\u001b[0;34m''\u001b[0m\u001b[0;34m)\u001b[0m\u001b[0;34m\u001b[0m\u001b[0m\n",
      "\u001b[0;32m~/.local/lib/python3.5/site-packages/pexpect/spawnbase.py\u001b[0m in \u001b[0;36mexpect_list\u001b[0;34m(self, pattern_list, timeout, searchwindowsize, async)\u001b[0m\n\u001b[1;32m    344\u001b[0m         \u001b[0;32melse\u001b[0m\u001b[0;34m:\u001b[0m\u001b[0;34m\u001b[0m\u001b[0m\n\u001b[0;32m--> 345\u001b[0;31m             \u001b[0;32mreturn\u001b[0m \u001b[0mexp\u001b[0m\u001b[0;34m.\u001b[0m\u001b[0mexpect_loop\u001b[0m\u001b[0;34m(\u001b[0m\u001b[0mtimeout\u001b[0m\u001b[0;34m)\u001b[0m\u001b[0;34m\u001b[0m\u001b[0m\n\u001b[0m\u001b[1;32m    346\u001b[0m \u001b[0;34m\u001b[0m\u001b[0m\n",
      "\u001b[0;32m~/.local/lib/python3.5/site-packages/pexpect/expect.py\u001b[0m in \u001b[0;36mexpect_loop\u001b[0;34m(self, timeout)\u001b[0m\n\u001b[1;32m     98\u001b[0m                 \u001b[0;31m# Still have time left, so read more data\u001b[0m\u001b[0;34m\u001b[0m\u001b[0;34m\u001b[0m\u001b[0m\n\u001b[0;32m---> 99\u001b[0;31m                 \u001b[0mincoming\u001b[0m \u001b[0;34m=\u001b[0m \u001b[0mspawn\u001b[0m\u001b[0;34m.\u001b[0m\u001b[0mread_nonblocking\u001b[0m\u001b[0;34m(\u001b[0m\u001b[0mspawn\u001b[0m\u001b[0;34m.\u001b[0m\u001b[0mmaxread\u001b[0m\u001b[0;34m,\u001b[0m \u001b[0mtimeout\u001b[0m\u001b[0;34m)\u001b[0m\u001b[0;34m\u001b[0m\u001b[0m\n\u001b[0m\u001b[1;32m    100\u001b[0m                 \u001b[0;32mif\u001b[0m \u001b[0mself\u001b[0m\u001b[0;34m.\u001b[0m\u001b[0mspawn\u001b[0m\u001b[0;34m.\u001b[0m\u001b[0mdelayafterread\u001b[0m \u001b[0;32mis\u001b[0m \u001b[0;32mnot\u001b[0m \u001b[0;32mNone\u001b[0m\u001b[0;34m:\u001b[0m\u001b[0;34m\u001b[0m\u001b[0m\n",
      "\u001b[0;32m~/.local/lib/python3.5/site-packages/pexpect/pty_spawn.py\u001b[0m in \u001b[0;36mread_nonblocking\u001b[0;34m(self, size, timeout)\u001b[0m\n\u001b[1;32m    451\u001b[0m \u001b[0;34m\u001b[0m\u001b[0m\n\u001b[0;32m--> 452\u001b[0;31m         \u001b[0mr\u001b[0m\u001b[0;34m,\u001b[0m \u001b[0mw\u001b[0m\u001b[0;34m,\u001b[0m \u001b[0me\u001b[0m \u001b[0;34m=\u001b[0m \u001b[0mselect_ignore_interrupts\u001b[0m\u001b[0;34m(\u001b[0m\u001b[0;34m[\u001b[0m\u001b[0mself\u001b[0m\u001b[0;34m.\u001b[0m\u001b[0mchild_fd\u001b[0m\u001b[0;34m]\u001b[0m\u001b[0;34m,\u001b[0m \u001b[0;34m[\u001b[0m\u001b[0;34m]\u001b[0m\u001b[0;34m,\u001b[0m \u001b[0;34m[\u001b[0m\u001b[0;34m]\u001b[0m\u001b[0;34m,\u001b[0m \u001b[0mtimeout\u001b[0m\u001b[0;34m)\u001b[0m\u001b[0;34m\u001b[0m\u001b[0m\n\u001b[0m\u001b[1;32m    453\u001b[0m \u001b[0;34m\u001b[0m\u001b[0m\n",
      "\u001b[0;32m~/.local/lib/python3.5/site-packages/pexpect/utils.py\u001b[0m in \u001b[0;36mselect_ignore_interrupts\u001b[0;34m(iwtd, owtd, ewtd, timeout)\u001b[0m\n\u001b[1;32m    137\u001b[0m         \u001b[0;32mtry\u001b[0m\u001b[0;34m:\u001b[0m\u001b[0;34m\u001b[0m\u001b[0m\n\u001b[0;32m--> 138\u001b[0;31m             \u001b[0;32mreturn\u001b[0m \u001b[0mselect\u001b[0m\u001b[0;34m.\u001b[0m\u001b[0mselect\u001b[0m\u001b[0;34m(\u001b[0m\u001b[0miwtd\u001b[0m\u001b[0;34m,\u001b[0m \u001b[0mowtd\u001b[0m\u001b[0;34m,\u001b[0m \u001b[0mewtd\u001b[0m\u001b[0;34m,\u001b[0m \u001b[0mtimeout\u001b[0m\u001b[0;34m)\u001b[0m\u001b[0;34m\u001b[0m\u001b[0m\n\u001b[0m\u001b[1;32m    139\u001b[0m         \u001b[0;32mexcept\u001b[0m \u001b[0mInterruptedError\u001b[0m\u001b[0;34m:\u001b[0m\u001b[0;34m\u001b[0m\u001b[0m\n",
      "\u001b[0;31mKeyboardInterrupt\u001b[0m: ",
      "\nDuring handling of the above exception, another exception occurred:\n",
      "\u001b[0;31mKeyboardInterrupt\u001b[0m                         Traceback (most recent call last)",
      "\u001b[0;32m<ipython-input-36-c370aef6c630>\u001b[0m in \u001b[0;36m<module>\u001b[0;34m()\u001b[0m\n\u001b[1;32m      1\u001b[0m \u001b[0mget_ipython\u001b[0m\u001b[0;34m(\u001b[0m\u001b[0;34m)\u001b[0m\u001b[0;34m.\u001b[0m\u001b[0msystem\u001b[0m\u001b[0;34m(\u001b[0m\u001b[0;34m' sudo apt-get install libnetcdf-dev netcdf-bin'\u001b[0m\u001b[0;34m)\u001b[0m\u001b[0;34m\u001b[0m\u001b[0m\n\u001b[0;32m----> 2\u001b[0;31m \u001b[0mget_ipython\u001b[0m\u001b[0;34m(\u001b[0m\u001b[0;34m)\u001b[0m\u001b[0;34m.\u001b[0m\u001b[0msystem\u001b[0m\u001b[0;34m(\u001b[0m\u001b[0;34m' sudo apt-get install ncview'\u001b[0m\u001b[0;34m)\u001b[0m\u001b[0;34m\u001b[0m\u001b[0m\n\u001b[0m",
      "\u001b[0;32m~/.local/lib/python3.5/site-packages/IPython/core/interactiveshell.py\u001b[0m in \u001b[0;36msystem_piped\u001b[0;34m(self, cmd)\u001b[0m\n\u001b[1;32m   2223\u001b[0m         \u001b[0;31m# a non-None value would trigger :func:`sys.displayhook` calls.\u001b[0m\u001b[0;34m\u001b[0m\u001b[0;34m\u001b[0m\u001b[0m\n\u001b[1;32m   2224\u001b[0m         \u001b[0;31m# Instead, we store the exit_code in user_ns.\u001b[0m\u001b[0;34m\u001b[0m\u001b[0;34m\u001b[0m\u001b[0m\n\u001b[0;32m-> 2225\u001b[0;31m         \u001b[0mself\u001b[0m\u001b[0;34m.\u001b[0m\u001b[0muser_ns\u001b[0m\u001b[0;34m[\u001b[0m\u001b[0;34m'_exit_code'\u001b[0m\u001b[0;34m]\u001b[0m \u001b[0;34m=\u001b[0m \u001b[0msystem\u001b[0m\u001b[0;34m(\u001b[0m\u001b[0mself\u001b[0m\u001b[0;34m.\u001b[0m\u001b[0mvar_expand\u001b[0m\u001b[0;34m(\u001b[0m\u001b[0mcmd\u001b[0m\u001b[0;34m,\u001b[0m \u001b[0mdepth\u001b[0m\u001b[0;34m=\u001b[0m\u001b[0;36m1\u001b[0m\u001b[0;34m)\u001b[0m\u001b[0;34m)\u001b[0m\u001b[0;34m\u001b[0m\u001b[0m\n\u001b[0m\u001b[1;32m   2226\u001b[0m \u001b[0;34m\u001b[0m\u001b[0m\n\u001b[1;32m   2227\u001b[0m     \u001b[0;32mdef\u001b[0m \u001b[0msystem_raw\u001b[0m\u001b[0;34m(\u001b[0m\u001b[0mself\u001b[0m\u001b[0;34m,\u001b[0m \u001b[0mcmd\u001b[0m\u001b[0;34m)\u001b[0m\u001b[0;34m:\u001b[0m\u001b[0;34m\u001b[0m\u001b[0m\n",
      "\u001b[0;32m~/.local/lib/python3.5/site-packages/IPython/utils/_process_posix.py\u001b[0m in \u001b[0;36msystem\u001b[0;34m(self, cmd)\u001b[0m\n\u001b[1;32m    183\u001b[0m             \u001b[0;32mfinally\u001b[0m\u001b[0;34m:\u001b[0m\u001b[0;34m\u001b[0m\u001b[0m\n\u001b[1;32m    184\u001b[0m                 \u001b[0;31m# Ensure the subprocess really is terminated\u001b[0m\u001b[0;34m\u001b[0m\u001b[0;34m\u001b[0m\u001b[0m\n\u001b[0;32m--> 185\u001b[0;31m                 \u001b[0mchild\u001b[0m\u001b[0;34m.\u001b[0m\u001b[0mterminate\u001b[0m\u001b[0;34m(\u001b[0m\u001b[0mforce\u001b[0m\u001b[0;34m=\u001b[0m\u001b[0;32mTrue\u001b[0m\u001b[0;34m)\u001b[0m\u001b[0;34m\u001b[0m\u001b[0m\n\u001b[0m\u001b[1;32m    186\u001b[0m         \u001b[0;31m# add isalive check, to ensure exitstatus is set:\u001b[0m\u001b[0;34m\u001b[0m\u001b[0;34m\u001b[0m\u001b[0m\n\u001b[1;32m    187\u001b[0m         \u001b[0mchild\u001b[0m\u001b[0;34m.\u001b[0m\u001b[0misalive\u001b[0m\u001b[0;34m(\u001b[0m\u001b[0;34m)\u001b[0m\u001b[0;34m\u001b[0m\u001b[0m\n",
      "\u001b[0;32m~/.local/lib/python3.5/site-packages/pexpect/pty_spawn.py\u001b[0m in \u001b[0;36mterminate\u001b[0;34m(self, force)\u001b[0m\n\u001b[1;32m    597\u001b[0m         \u001b[0;32mtry\u001b[0m\u001b[0;34m:\u001b[0m\u001b[0;34m\u001b[0m\u001b[0m\n\u001b[1;32m    598\u001b[0m             \u001b[0mself\u001b[0m\u001b[0;34m.\u001b[0m\u001b[0mkill\u001b[0m\u001b[0;34m(\u001b[0m\u001b[0msignal\u001b[0m\u001b[0;34m.\u001b[0m\u001b[0mSIGHUP\u001b[0m\u001b[0;34m)\u001b[0m\u001b[0;34m\u001b[0m\u001b[0m\n\u001b[0;32m--> 599\u001b[0;31m             \u001b[0mtime\u001b[0m\u001b[0;34m.\u001b[0m\u001b[0msleep\u001b[0m\u001b[0;34m(\u001b[0m\u001b[0mself\u001b[0m\u001b[0;34m.\u001b[0m\u001b[0mdelayafterterminate\u001b[0m\u001b[0;34m)\u001b[0m\u001b[0;34m\u001b[0m\u001b[0m\n\u001b[0m\u001b[1;32m    600\u001b[0m             \u001b[0;32mif\u001b[0m \u001b[0;32mnot\u001b[0m \u001b[0mself\u001b[0m\u001b[0;34m.\u001b[0m\u001b[0misalive\u001b[0m\u001b[0;34m(\u001b[0m\u001b[0;34m)\u001b[0m\u001b[0;34m:\u001b[0m\u001b[0;34m\u001b[0m\u001b[0m\n\u001b[1;32m    601\u001b[0m                 \u001b[0;32mreturn\u001b[0m \u001b[0;32mTrue\u001b[0m\u001b[0;34m\u001b[0m\u001b[0m\n",
      "\u001b[0;31mKeyboardInterrupt\u001b[0m: "
     ]
    }
   ],
   "source": [
    "! sudo apt-get install libnetcdf-dev netcdf-bin\n",
    "! sudo apt-get install ncview"
   ]
  },
  {
   "cell_type": "markdown",
   "metadata": {},
   "source": [
    "To install Python's netCDF4 lib:"
   ]
  },
  {
   "cell_type": "code",
   "execution_count": null,
   "metadata": {},
   "outputs": [],
   "source": [
    "! pip install netCDF4"
   ]
  },
  {
   "cell_type": "markdown",
   "metadata": {},
   "source": [
    "## 3. How to open a NetCDF file?\n",
    "NetCDF files should have the file name extension \"**.nc**\". \n",
    "\n",
    "A classic netCDF format file should **not** be larger than **2GB**, except on platforms that have \"Large File Support\"(LFS). "
   ]
  },
  {
   "cell_type": "markdown",
   "metadata": {},
   "source": [
    "### Command line Tools\n",
    "* **[ncdump](https://www.unidata.ucar.edu/software/netcdf/docs/netcdf_utilities_guide.html#ncdump_guide)**\n",
    "The ncdump command is used to show the contents of netCDF files. It reads a netCDF file and outputs text. The output text is in a format called Common Data Language ([CDL](https://www.unidata.ucar.edu/software/netcdf/docs/netcdf_utilities_guide.html#cdl_guide)), describing netCDF objects and data. "
   ]
  },
  {
   "cell_type": "code",
   "execution_count": null,
   "metadata": {},
   "outputs": [],
   "source": [
    "! ncdump example.nc"
   ]
  },
  {
   "cell_type": "code",
   "execution_count": null,
   "metadata": {},
   "outputs": [],
   "source": [
    "! ncdump -h example.nc"
   ]
  },
  {
   "cell_type": "markdown",
   "metadata": {},
   "source": [
    "* **[ncview](http://meteora.ucsd.edu/~pierce/ncview_home_page.html)** is a visual browser for netCDF format files. "
   ]
  },
  {
   "cell_type": "code",
   "execution_count": null,
   "metadata": {},
   "outputs": [],
   "source": [
    "! ncview example.nc"
   ]
  },
  {
   "cell_type": "markdown",
   "metadata": {},
   "source": [
    "*Tips: when showing a netCDF file, if the coordinate systems are correctly identified, the values for x and y axes should change as the cursor moving on the plot.*"
   ]
  },
  {
   "cell_type": "markdown",
   "metadata": {},
   "source": [
    "### Other Viewer Tools\n",
    "* **[Panoply](https://www.giss.nasa.gov/tools/panoply/)** can output CDL descriptions as well as plot variable data. Download and installation [here](https://www.giss.nasa.gov/tools/panoply/download/). \n"
   ]
  },
  {
   "cell_type": "markdown",
   "metadata": {},
   "source": [
    "*Tips: if lon-lat coordinates are correctly identified, it can plot data on a global or regional map using lon/lat variable data.\n",
    "With a projection system, if the grid mapping variable is correctly described, it can plot data on the global map even without lon/lat variable data(Panoply will do the unprojection for you).*"
   ]
  },
  {
   "cell_type": "markdown",
   "metadata": {},
   "source": [
    "## 4. What can be seen in a NetCDF file (file structure and components)?\n",
    "A netCDF file comprises two parts: a header part and a data part:\n",
    "* **Header part**: contains all the information/metadata about **Dimensions**, **Attributes** and **Variables**. \n",
    "* **Data part**: fixed-size data (the data for variables without unlimited dimension); variable-size data (the data for variables with unlimited dimension)"
   ]
  },
  {
   "cell_type": "markdown",
   "metadata": {},
   "source": [
    "An example netCDF file read by ```ncdump```."
   ]
  },
  {
   "cell_type": "code",
   "execution_count": null,
   "metadata": {},
   "outputs": [],
   "source": [
    "netcdf sfc_pres_temp {\n",
    "dimensions:\n",
    "   latitude = 6 ;\n",
    "   longitude = 12 ;\n",
    "variables:\n",
    "   float latitude(latitude) ;\n",
    "       latitude:units = \"degrees_north\" ;\n",
    "   float longitude(longitude) ;\n",
    "       longitude:units = \"degrees_east\" ;\n",
    "   float pressure(latitude, longitude) ;\n",
    "       pressure:units = \"hPa\" ;\n",
    "data:\n",
    " latitude = 25, 30, 35, 40, 45, 50 ;\n",
    " longitude = -125, -120, -115, -110, -105, -100, -95, -90, -85, -80, -75, -70 ;\n",
    " pressure =\n",
    "  900, 906, 912, 918, 924, 930, 936, 942, 948, 954, 960, 966,\n",
    "  901, 907, 913, 919, 925, 931, 937, 943, 949, 955, 961, 967,\n",
    "  902, 908, 914, 920, 926, 932, 938, 944, 950, 956, 962, 968,\n",
    "  903, 909, 915, 921, 927, 933, 939, 945, 951, 957, 963, 969,\n",
    "  904, 910, 916, 922, 928, 934, 940, 946, 952, 958, 964, 970,\n",
    "  905, 911, 917, 923, 929, 935, 941, 947, 953, 959, 965, 971 ;\n",
    "}"
   ]
  },
  {
   "cell_type": "markdown",
   "metadata": {},
   "source": [
    "**In fact, data in netCDF files is a group of functions(called variables) with zero to multiple dimensions. Each variable has some meta data to self-describe the meaning of this variable, the meta data is called attributes. **"
   ]
  },
  {
   "cell_type": "markdown",
   "metadata": {},
   "source": [
    "#### **NAMING:** \n",
    "```alphanumeric_seperated_by_underscores```. Starting from letter; accepting period '.', plus '+', hyphen '-', or at sign '@'; case sensitive; ```_reserved``` for system names. "
   ]
  },
  {
   "cell_type": "markdown",
   "metadata": {},
   "source": [
    "**Import Python [netCDF4](http://unidata.github.io/netcdf4-python/) module** and **Create an example .nc file**"
   ]
  },
  {
   "cell_type": "code",
   "execution_count": null,
   "metadata": {},
   "outputs": [],
   "source": [
    "import netCDF4\n",
    "path = \"example.nc\"\n",
    "exp_nc = netCDF4.Dataset(path, 'w')"
   ]
  },
  {
   "cell_type": "markdown",
   "metadata": {},
   "source": [
    "### Dimensions\n",
    "A dimension represents a quantity. It can be a physical spatiotemporal dimension: date or time (T), height or depth (Z), latitude (Y), longitude (X); or other user-defined quantities. \n",
    "\n",
    "Each dimension has a **name** and a **length**. There are not standard dimension names. Dimensions should be named meaningful. The dimmensions must all have different names.\n",
    "Dimension length is an arbitrary positive integer or UNLIMITED. \n",
    "\n",
    "The length of the dimension indicates the number of points of this dimension. UNLIMITED length means the dimension can grow to any length. It is usually used as an index for appending more records. For example, time dimension is always defined as UNLIMITED. \n",
    "\n",
    "If any information, description, meaning of the dimension needs to be attached, a variable using the same name as the dimension with only this single dimension should be used. This variable will have the same size of the dimension. Then all the attributes of this variable can be used to describe the single-valued quantity. The actual values of the dimension are also stored as the data of this variable (i.e. a 1D array). \n",
    "\n",
    "A netCDF file allows any number of dimensions, and any number of UNLIMITED dimensions, but the old convention strongly recommends limiting the total number of dimensions to **four**, the number of UNLIMITED dimension to up to **one**. \n",
    "\n",
    "Dimensions can be renamed after creation. "
   ]
  },
  {
   "cell_type": "markdown",
   "metadata": {},
   "source": [
    "**For example:** In the netCDF above: \n",
    "\n",
    "```latitude``` and ```longitude``` are both dimensions and variables. The dimension ```latitude``` has a name \"latitude\" and a length \"6\". The variable ```latitude``` has the same name as the dimension ```latitude``` and takes the single dimension ```latitude```. The variable ```latitude``` has an attribute: ```units```. The data of the variable ```latitude``` is a 1D array with size 6: ```latitude = 25, 30, 35, 40, 45, 50 ;```. "
   ]
  },
  {
   "cell_type": "code",
   "execution_count": null,
   "metadata": {},
   "outputs": [],
   "source": [
    "lat = exp_nc.createDimension('latitude', 6)\n",
    "lon = exp_nc.createDimension('longitude', 12)\n",
    "time = exp_nc.createDimension('time', None)  # unlimited"
   ]
  },
  {
   "cell_type": "code",
   "execution_count": null,
   "metadata": {},
   "outputs": [],
   "source": [
    "print(exp_nc.dimensions.keys())\n",
    "print(time.isunlimited())"
   ]
  },
  {
   "cell_type": "markdown",
   "metadata": {},
   "source": [
    "There are several uses for netCDF dimensions[[cites]](http://www.bic.mni.mcgill.ca/users/sean/Docs/netcdf/guide.txn_12.html):\n",
    "* Specifying the shapes and sizes of variables.\n",
    "* Identifying and relating variables that are defined on a common grid.\n",
    "* Providing a way to define coordinate systems. "
   ]
  },
  {
   "cell_type": "markdown",
   "metadata": {},
   "source": [
    "### (Global) Attributes\n",
    "\n",
    "A list of attributes for different types of usages [here](https://www.star.nesdis.noaa.gov/sod/mecb/coastwatch/cwf/cw_cf_metadata.pdf).\n",
    "\n",
    "Global attributes are optional. There are some standard global attribute names. A file can also have non-standart attributes. Application programs will ignore the attributes that they do not recognize. \n",
    "\n",
    "Usually, the global attributes are description of the file contents/origin, such as where the data came from and what has been done to it. This information is mainly for the benefit of human readers. The attribute values are all strings. For pretty output of ```ncdump```, ```'\\n'``` is recommanded to be embedded to long strings. \n",
    "\n",
    "Standard global attribute names include: ```title```, ```institution```, ```source```, ```history```, ```comment```, ```Conventions```, ```external_variables```, ```references```. Some of these attribute names can also be assigned to individual variables: ```institution```, ```source```,```comment```, ```references```."
   ]
  },
  {
   "cell_type": "code",
   "execution_count": null,
   "metadata": {},
   "outputs": [],
   "source": [
    "exp_nc.Conventions = \"CF-1.6\"\n",
    "exp_nc.title = 'An example netCDF dataset'\n",
    "exp_nc.institution = 'University of Waterloo'"
   ]
  },
  {
   "cell_type": "markdown",
   "metadata": {},
   "source": [
    "### Variables\n",
    "A variable is a multidimensional object that has, among other characteristics, a *shape*. *Shape* is defined by the number, order and sizes of its dimensions. \n",
    "\n",
    "Each variable has **5 parts**: data type, variable name, dimensions, attributes and data.\n",
    "\n",
    "Data type, variable name and dimension list must be specified when the variable is created. Dimension list fix the shape of the data array/matrix. So data type and dimension list can not be modified after the variable is created. Variables can be renamed. Attributes of the variable can be created, deleted, modified at any time. \n",
    "\n",
    "Variables are related by the dimensions they share. Eg. if two variables are defined with the same dimensions, they might represent observations or model output for the same set of points. \n",
    "\n",
    "* There are TWO different kinds of variables: physical value variables (non-coordinate data) -- **D varialbes** and coordinate related variables (variables containing coordinate data, i.e. coordinate variables and auxiliary coordinate variables) -- **C variables**."
   ]
  },
  {
   "cell_type": "code",
   "execution_count": null,
   "metadata": {},
   "outputs": [],
   "source": [
    "lat = exp_nc.createVariable('latitude', 'i4', ('latitude', ))\n",
    "lat.units = 'degrees_north'\n",
    "lat.standard_name = 'latitude'\n",
    "lat.axis = 'Y'\n",
    "\n",
    "# rename variable\n",
    "exp_nc.renameVariable('latitude', 'lat')"
   ]
  },
  {
   "cell_type": "markdown",
   "metadata": {},
   "source": [
    "#### Data Types and Data\n",
    "Data of a variable is an array(matrix) of values(all in the same data type) .\n",
    "\n",
    "Data can be stored in clasical programming data types or user-defined types. The clasical programming types include: byte, char, short, ushort, int, uint, int64, uint64, float or real, double, string. All integer types are treated as signed. String type is represented as a 1D array of char data. "
   ]
  },
  {
   "cell_type": "code",
   "execution_count": null,
   "metadata": {},
   "outputs": [],
   "source": [
    "lat[:] = [25, 30, 35, 40, 45, 50]"
   ]
  },
  {
   "cell_type": "markdown",
   "metadata": {},
   "source": [
    "#### Dimensions of the Variable\n",
    "\n",
    "A variable can have 0 to any arbitrary number of dimensions. Some special types of variables may have 0 dimension (eg. grid mapping variable, scalar coordinate variable).\n",
    "\n",
    "The dimensions of variables with more than 0 dimension should be chosen from the already created dimensions. If any or all of the dimensions of a variable have date or time (T), height or depth (Z), latitude (Y), longitude (X), then those dimensions are **recommanded** to appear in the **relative order: T, Z, Y, X**. All other dimensions should be placed to the **left** of these spatiotemporal dimensions. \n",
    "\n",
    "A variable should be given the same name as a dimension **ONLY** when it is to be used as a coordinate variable. It is not necessary to provide a coordinate variable for each dimension. If no such variable is defined, the coordinate values of the dimension are assumed to be indices (0, 1, 2... for C programs, or 1, 2, 3... for FORTRAN programs). "
   ]
  },
  {
   "cell_type": "markdown",
   "metadata": {},
   "source": [
    "#### Coordinate Variables\n",
    "Coordinate variables are variables containing coordinate data. They are **single-dimension** arrays that have the same size and **same name** as the dimension they are assigned to. These arrays contain **distinct** (all values are different), **monotonically** increasing or decreasing values. **Missing values** are **not allowed** in coordinate variables. *That is to say, only the variables with the same name as the dimensions are called coordinate variables.*\n",
    "\n",
    "Coordinate variables includes variables for locating data in space and time, and variables related to other continuous geophysical quantities. Only the space and time variables receives special treatment by the conventions. \n",
    "\n",
    "Coordinate type (whether it is latitude, longitude, vertical, time, other geophysical or discrete quantities) of a coordinate variable can be identified by the values of some of its attributes: **axis**, **standard_name**, **units** and **positive**. \n",
    "* axis with values T, Z, X, Y. \n",
    "* standard_name such as \"latitude\", \"longitude\", \"grid_latitude\", \"projection_x_coordinate\". \n",
    "\n",
    "The methods of identifying coordinate types apply both to coordinate variables and to auxiliary coordinate variables.\n",
    "\n",
    "There are also **scalar coordinate variables** (0-dimensional variables or single strings, should have a name other than any of the dimension names) and **auxiliary coordinate variables**. They associated with the **D-variables** through the **coordinates** attribute of data variables."
   ]
  },
  {
   "cell_type": "markdown",
   "metadata": {},
   "source": [
    "##### Auxiliary Coordinate Variables\n",
    "Variable that contains coordinate data, but is not a coordinate variable. It doesn't have the same name(s) with its dimension(s). It can have any subset of the dimensions and is not necessarily monotonic. \n",
    "\n",
    "Auxiliary coordinate variable should not be given the name of any of its dimensions. \n",
    "\n",
    "**Multidimensional Coordinate Variables** are auxiliary coordinate variables that is multidimensional. \n",
    "\n",
    "*An application that is trying to find the latitude coordinate of a variable should first search for latitude coordinate variable. If there is not a latitude coordinate variable, it then check the auxiliary coordinate variables listed by the \"coordinates\" attribute. It can check the \"axis\" attribute valued as \"Y\" and \"standard_name\" valued as \"latitude\".*\n",
    "\n",
    "There must not be more than one coordinate variables and auxiliary coordinate variables with \"axis\" attribute valued \"X\" (similar to others YZT). "
   ]
  },
  {
   "cell_type": "markdown",
   "metadata": {},
   "source": [
    "**In [CF-Conventions-1.7](https://github.com/cf-convention/cf-conventions/blob/master/ch05.adoc)([pdf version](http://cfconventions.org/Data/cf-conventions/cf-conventions-1.7/cf-conventions.pdf)) Chapter 5(page 31):**\n",
    "If the coordinate variables for a horizontal grid are not longitude and latitude, it is recommended that they be **supplied in addition** to the required coordinates.\n",
    "\n",
    "For example, the Cartesian coordinates of a **map projection** should be supplied as coordinate variables in addition to the required two-dimensional latitude and longitude variables that are identified via the \"coordinates\" attribute.\n",
    "\n",
    "(Page 32 bottom)This faciliates processing of this data by generic applications that don't recognize the nultidimensional latitude and longitude coordinates. \n",
    "\n",
    "(Page 34)When the coordinate variables for a horizontal grid are not longitude and latitude, it is required that the true latitude and longitude coordinates be supplied via the \"coordinates\" attribute. "
   ]
  },
  {
   "cell_type": "code",
   "execution_count": null,
   "metadata": {},
   "outputs": [],
   "source": [
    "dimensions:\n",
    "  xc = 128 ;             \n",
    "  yc = 64 ;\n",
    "  lev = 18 ;\n",
    "variables:\n",
    "  float T(lev,yc,xc) ;\n",
    "    T:long_name = \"temperature\" ;\n",
    "    T:units = \"K\" ;\n",
    "    T:coordinates = \"lon lat\" ;   # identifies lon and lat are auxiliary coordinate variables\n",
    "  float xc(xc) ;    # supplied in addition to lat lon variables\n",
    "    xc:axis = \"X\" ;\n",
    "    xc:long_name = \"x-coordinate in Cartesian system\" ;\n",
    "    xc:units = \"m\" ;\n",
    "  float yc(yc) ;    # supplied in addition to lat lon variables\n",
    "    yc:axis = \"Y\" ;\n",
    "    yc:long_name = \"y-coordinate in Cartesian system\" ;\n",
    "    yc:units = \"m\" ;\n",
    "  float lev(lev) ;\n",
    "    lev:long_name = \"pressure level\" ;\n",
    "    lev:units = \"hPa\" ;\n",
    "  float lon(yc,xc) ; # multidimentional coordinate variable\n",
    "    lon:long_name = \"longitude\" ;\n",
    "    lon:units = \"degrees_east\" ;\n",
    "  float lat(yc,xc) ;\n",
    "    lat:long_name = \"latitude\" ;\n",
    "    lat:units = \"degrees_north\" ;"
   ]
  },
  {
   "cell_type": "markdown",
   "metadata": {},
   "source": [
    "#### Data in Projected Coordinate Systems (PCS) \n",
    "Reference: CF-Conventions-1.7 Chapter 5.6\n",
    "\n",
    "The coordinate variables should be supplied. The true latitude and longitude auxiliary coordinate variables (e.g. named as \"lat\" and \"lon\") should be supplied as well. Data variables should have \"coordinated\" attribute with the value \"lat lon\" or \"lon lat\". \n",
    "\n",
    "There should be a **grid mapping variable** to describe the mapping/projection via a collection of attributes. Data type of grid mapping variable can be anything, since there is no data. **\"grid_mapping_name\"** attribute is **required**. The valid values of \"grid_mapping_name\" and the attribute names for the parameters describing map projections are listed in [CF-Conventions-1.7 Appendix F:Grid Mappings](http://cfconventions.org/Data/cf-conventions/cf-conventions-1.7/cf-conventions.pdf)\n",
    "\n",
    "The grid mapping variable names should be given as value of \"grid_mapping\" attribute of D variables.\n",
    "\n",
    "In order to make use of a grid mapping to directly calculate latitude and longitude values, \"standard_name\" matching the grid mapping should be used in coordinate variables. e.g. \"standard_name\" values of \"grid_longitude\" and \"grid_latitude\" can be recognized as rotated longitude and latitude axes. \n",
    "\n",
    "\"crs_wkt\" is an optional attribute of grid mapping variables. It means [CRS well-known text format](http://www.opengeospatial.org/standards/wkt-crs) (CRS WKT or OGC WKT). There is a mapping from CF grid mapping attributes to CRS WKT elements [here](https://github.com/cf-convention/cf-conventions/wiki/Mapping-from-CF-Grid-Mapping-Attributes-to-CRS-WKT-Elements). It acts as a supplement to other grid mapping attributes, but cannot replace them. For duplicate or inconsistent information between crs_wkt and other grid mapping attributes, the later one will be used. "
   ]
  },
  {
   "cell_type": "code",
   "execution_count": null,
   "metadata": {},
   "outputs": [],
   "source": [
    "dimensions:\n",
    "  y = 228;\n",
    "  x = 306;\n",
    "  time = 41;\n",
    "variables:\n",
    "  int Lambert_Conformal;  # grid mapping variable indicates the lambert conformal conic projection\n",
    "    Lambert_Conformal:grid_mapping_name = \"lambert_conformal_conic\";\n",
    "    Lambert_Conformal:standard_parallel = 25.0;\n",
    "    Lambert_Conformal:longitude_of_central_meridian = 265.0;\n",
    "    Lambert_Conformal:latitude_of_projection_origin = 25.0;\n",
    "  double y(y);\n",
    "    y:units = \"km\";\n",
    "    y:long_name = \"y coordinate of projection\";\n",
    "    y:standard_name = \"projection_y_coordinate\"; # identifies the projection coordinate y\n",
    "  double x(x);\n",
    "    x:units = \"km\";\n",
    "    x:long_name = \"x coordinate of projection\";\n",
    "    x:standard_name = \"projection_x_coordinate\";\n",
    "  double lat(y, x);\n",
    "    lat:units = \"degrees_north\";\n",
    "    lat:long_name = \"latitude coordinate\";\n",
    "    lat:standard_name = \"latitude\"; # identifies latitude coordinate\n",
    "  double lon(y, x);\n",
    "    lon:units = \"degrees_east\";\n",
    "    lon:long_name = \"longitude coordinate\";\n",
    "    lon:standard_name = \"longitude\";\n",
    "  int time(time);\n",
    "    time:long_name = \"forecast time\";\n",
    "    time:units = \"hours since 2004-06-23T22:00:00Z\";\n",
    "  float Temperature(time, y, x);\n",
    "    Temperature:units = \"K\";\n",
    "    Temperature:long_name = \"Temperature @ surface\";\n",
    "    Temperature:missing_value = 9999.0;\n",
    "    Temperature:coordinates = \"lat lon\"; # identifies latitude and longitude auxiliary coordinate variables\n",
    "    Temperature:grid_mapping = \"Lambert_Conformal\"; # identifies the grid mapping variable "
   ]
  },
  {
   "cell_type": "code",
   "execution_count": null,
   "metadata": {},
   "outputs": [],
   "source": [
    "var_prj = exp_nc.createVariable('Lambert_Azimuthal_EA', 'i4')\n",
    "var_prj.grid_mapping_name = 'lambert_azimuthal_equal_area'\n",
    "var_prj.longitude_of_projection_origin = 0.\n",
    "var_prj.latitude_of_projection_origin = 90.\n",
    "var_prj.false_easting = 0.\n",
    "var_prj.false_northing = 0.\n",
    "var_prj.long_name = 'CRS definition'"
   ]
  },
  {
   "cell_type": "markdown",
   "metadata": {},
   "source": [
    "##### Time Coordinate Variable\n",
    "Time (year, month, day, hour, minute, second) is encoded with units\n",
    " ```time_unit since reference_time```. The encoding depends on the calendar. \n",
    "The acceptable units includes:\n",
    "* strings of \"day(days, d)\", \"hour(hours, hr, h)\", \"minute(minutes, min)\", second(seconds, sec, s). \"year\" and \"month\" are also acceptable, but should be used with caution. Since the Udunits package defines a year to be exactly 365.2421 days, not a calendar year. month=year/12. \n",
    "* identifier \"since\"\n",
    "* date, optionally with time and time zone. The default of time and time zone are \"00:00:00 UTC\""
   ]
  },
  {
   "cell_type": "code",
   "execution_count": null,
   "metadata": {},
   "outputs": [],
   "source": [
    "from netCDF4 import date2num\n",
    "var_time = exp_nc.createVariable('time', 'i4', ('time', ))\n",
    "var_time.units = 'hours since 1990-01-01 00:00:00'\n",
    "var_time.calendar = 'gregorian'\n",
    "var_time.long_name = 'time'\n",
    "var_time.standard_name = 'time'\n",
    "var_time.axis = 'T'\n",
    "# Add value to time variable\n",
    "var_time[:] = date2num([date], units=var_time.units, calendar=var_time.calendar)"
   ]
  },
  {
   "cell_type": "code",
   "execution_count": null,
   "metadata": {},
   "outputs": [],
   "source": [
    "setattr(var_time, test, 'a')"
   ]
  },
  {
   "cell_type": "markdown",
   "metadata": {},
   "source": [
    "#### Attributes (Conform CF-Conventions)\n",
    "\n",
    "[CF-Conventions](http://cfconventions.org/latest.html): Climate and forecaset(CF) metadata convention. [Overview](http://cfconventions.org/Data/cf-documents/overview/viewgraphs.pdf)\n",
    "\n",
    "*Some attributes are changed among different CF-Conventions.*\n",
    "##### CF attributes for both C variables and D variables\n",
    "* **units**: **Required** for all variables (except two C variables: boundary variable and climatology variable). Variables without dimensions may optionally include units. The units values must be chosen from [udunits.dat](https://www.unidata.ucar.edu/software/udunits/udunits-1/udunits.txt), which can make it recognized by UNIDATA's [Udunits package](https://www.unidata.ucar.edu/software/udunits/). \n",
    "\n",
    "*If standard_name is assigned, the units should match the cooresponding units of the standard name.*\n",
    "\n",
    "        NOTE: \n",
    "          1. The acceptable units for longitude are \"degrees_east\", \"degree_east\", \"degrees_E\", \"degree_E\", \"degreesE\", and \"degreeE\". \n",
    "          2. Similarly, the acceptable units for latitude are \"degrees_north\", \"degree_north\", \"degrees_N\", \"degree_N\", \"degreesN\", and \"degreeN\". \n",
    "          3. Units for representing fractions or parts of a whole is \"1\". \n",
    "          4. Units for coordinates of latitude with respect to a Rotated Pole should be given units of \"degrees\", not \"degrees_north\" or equivalents.\n",
    "\n",
    "* **long_name**: Optional, but **highly recommended** to be included either this or \"standard_name\". String for human reader.\n",
    "* **standard_name**: identifies the quantity. It is a list of string, blank separated. Each string is a case sensitive standard name without whitespace. Standard names can be found in [table](http://cfconventions.org/Data/cf-standard-names/50/build/cf-standard-name-table.html). The table is expanding on request. \n",
    "* valid_max, valid_min, valid_range: indicates valid values of a variable.\n",
    "* add_offset\n",
    "* scale_factor\n",
    "* comment"
   ]
  },
  {
   "cell_type": "markdown",
   "metadata": {},
   "source": [
    "##### CF attributes for C variables\n",
    "* **axis**: identifies space and time axes. Given one of the values X, Y, Z and T which stands for a longitude, latitude, vertical and time axis respectively.\n",
    "\n",
    "for Time axes:\n",
    "* **calendar**: calendar chosen from \"gregorian\" or \"standard\", \"proleptic_gregorian\", \"noleap\" or \"365_day\", \"all_leap\" or \"366_day\", \"360_day\", \"julian\", \"none\"\n",
    "* leap_month, leap_year, month_lengths: for user defined calendar\n",
    "\n",
    "for vertical axes:\n",
    "* **positive**: direction of increasing vertical coordinate value. eg. \"up\" or \"down\". The value should be consistent with the value of \"standard_name\".\n",
    "* computed_standard_name: from the standard name table, for computed vertical coordinate values, computed according to the formula in the definition\n",
    "* formular_terms: identifieds variables that coorespond to the terms in a formula\n",
    "\n",
    "* bounds: for boundary variable\n",
    "* climatology: for climatology variable\n",
    "* cf_role: roles of variables, geometries\n",
    "* compress: compressed dimensions"
   ]
  },
  {
   "cell_type": "markdown",
   "metadata": {},
   "source": [
    "##### CF attributes for D variables\n",
    "* **coordinates**: a blank separated list of the names of auxiliary coordinate variables. There is no restriction on the order of the appearance of these auxiliary coordinate variables. \n",
    "* **grid_mapping**: given by a grid mapping variable name\n",
    "* _FillValue, missing_value, actual_range\n",
    "* ancillary_variables: a pointer to variables providing metadata about the individual data values, represents having relationships with other variables. eg. standard error, data quality information.\n",
    "* cell_measures, cell_methods\n",
    "* flag_masks, flag_meanings, flag_values: mutually exclusive coded values\n",
    "* instituition, reference, source\n",
    "* standard_error_multiplier"
   ]
  },
  {
   "cell_type": "code",
   "execution_count": null,
   "metadata": {},
   "outputs": [],
   "source": [
    "exp_nc.close()"
   ]
  },
  {
   "cell_type": "markdown",
   "metadata": {},
   "source": [
    "### Other useful links:\n",
    "* A R example of reading and writing a projected netCDF file [here](http://geog.uoregon.edu/bartlein/courses/geog490/week04-netCDFprojected.html)\n",
    "* Some contents of the conventions doc are not included here, such as using labels (scalar coordinate variable), cells, boundries, climatological statistics, compression of data\n",
    "* [Python for GeoScientists tutorial](https://github.com/koldunovn/python_for_geosciences)\n",
    "* [Useful Python Tools](https://unidata.github.io/python-gallery/useful_tools.html)"
   ]
  },
  {
   "cell_type": "code",
   "execution_count": null,
   "metadata": {},
   "outputs": [],
   "source": []
  }
 ],
 "metadata": {
  "kernelspec": {
   "display_name": "Python 3",
   "language": "python",
   "name": "python3"
  },
  "language_info": {
   "codemirror_mode": {
    "name": "ipython",
    "version": 3
   },
   "file_extension": ".py",
   "mimetype": "text/x-python",
   "name": "python",
   "nbconvert_exporter": "python",
   "pygments_lexer": "ipython3",
   "version": "3.5.2"
  }
 },
 "nbformat": 4,
 "nbformat_minor": 2
}
