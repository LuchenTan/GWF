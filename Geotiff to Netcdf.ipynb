{
 "cells": [
  {
   "cell_type": "markdown",
   "metadata": {},
   "source": [
    "A very good tutorial:\n",
    "https://annefou.github.io/metos_python/02-formats/\n",
    "\n",
    "http://www.ceda.ac.uk/static/media/uploads/ncas-reading-2015/11_create_netcdf_python.pdf\n"
   ]
  },
  {
   "cell_type": "markdown",
   "metadata": {},
   "source": [
    "# CF-Convention Compliance Checker for NetCDF Format\n",
    "http://puma.nerc.ac.uk/cgi-bin/cf-checker.pl\n",
    "\n",
    "# CF-Convention book\n",
    "http://cfconventions.org/Data/cf-conventions/cf-conventions-1.7/cf-conventions.pdf\n",
    "\n",
    "# NetCDF4 example\n",
    "http://unidata.github.io/netcdf4-python/\n",
    "\n",
    "https://github.com/Unidata/netcdf4-python/blob/master/examples/tutorial.py"
   ]
  },
  {
   "cell_type": "markdown",
   "metadata": {},
   "source": [
    "# Grid Mappings and Projections\n",
    "\n",
    "http://cfconventions.org/Data/cf-conventions/cf-conventions-1.0/build/ch05s06.html\n",
    "\n",
    "http://cfconventions.org/Data/cf-conventions/cf-conventions-1.0/build/apf.html\n",
    "\n",
    "http://nsidc.org/data/atlas/laea_north_nsidc.html\n",
    "\n",
    "http://geotiff.maptools.org/proj_list/lambert_azimuthal_equal_area.html\n",
    "\n",
    "\n",
    "# PROJ.4 Organization\n",
    "\n",
    "  +proj=laea  \n",
    "  \n",
    "  +lat_0=Latitude at projection center \n",
    "              \n",
    "  +lon_0=Longitude at projection center\n",
    "  \n",
    "  +x_0=False Easting\n",
    "  \n",
    "  +y_0=False Northing\n",
    "              "
   ]
  },
  {
   "cell_type": "code",
   "execution_count": 32,
   "metadata": {},
   "outputs": [
    {
     "name": "stdout",
     "output_type": "stream",
     "text": [
      "<class 'netCDF4._netCDF4.Variable'>\n",
      "float32 Band1(y, x)\n",
      "    long_name: GDAL Band Number 1\n",
      "    _FillValue: 9.96921e+36\n",
      "    grid_mapping: lambert_azimuthal_equal_area\n",
      "unlimited dimensions: \n",
      "current shape = (1956, 1299)\n",
      "filling off\n",
      "\n",
      "<class 'netCDF4._netCDF4.Variable'>\n",
      "float32 LST_LWST_avg_daily(time, y, x)\n",
      "    grid_mapping: lambert_azimuthal_equal_area\n",
      "    long_name: average daily temperature\n",
      "    _FillValue: 9.96921e+36\n",
      "    units: K\n",
      "unlimited dimensions: time\n",
      "current shape = (1, 1956, 1299)\n",
      "filling off\n",
      "\n",
      "<class 'numpy.ndarray'>\n",
      "[[[nan nan nan ... nan nan nan]\n",
      "  [nan nan nan ... nan nan nan]\n",
      "  [nan nan nan ... nan nan nan]\n",
      "  ...\n",
      "  [nan nan nan ... nan nan nan]\n",
      "  [nan nan nan ... nan nan nan]\n",
      "  [nan nan nan ... nan nan nan]]]\n"
     ]
    }
   ],
   "source": [
    "from osgeo import ogr, osr, gdal\n",
    "import numpy as np\n",
    "import netCDF4\n",
    "from datetime import datetime, timedelta\n",
    "from netCDF4 import num2date, date2num, date2index\n",
    "import pyproj\n",
    "\n",
    "source_path = 'UW_NA_LST_7.1.1_001_2008.10.1_0.0.0_2008.10.31_23.59.59_NA_001.tif'\n",
    "#source_path = \"outfile.tif\"\n",
    "output_path = '2008.10.1_0.0.0_2008.10.31_23.59.59_NA_001_test_convtif.nc'\n",
    "\n",
    "source_dataset = gdal.Open(source_path)\n",
    "gdal.Translate(output_path, source_dataset, format='NetCDF', )\n",
    "converted_dataset = netCDF4.Dataset(output_path, 'r+')\n",
    "converted_dataset.createDimension('time', None)\n",
    "times = converted_dataset.createVariable('time', 'i4', ('time', ))\n",
    "times.units = 'hours since 1990-01-01 00:00:00'\n",
    "times.calendar = 'gregorian'\n",
    "times.long_name = 'time'\n",
    "times.axis = 'T'\n",
    "times[:] = date2num([datetime(2008, 10, 1)],units=times.units,calendar=times.calendar)\n",
    "\n",
    "band1 = converted_dataset.variables['Band1']\n",
    "print(band1)\n",
    "#grid_mapping = converted_dataset.variables['lambert_azimuthal_equal_area']\n",
    "#print(grid_mapping)\n",
    "lst = converted_dataset.createVariable('LST_LWST_avg_daily', band1.datatype, ('time', 'y', 'x'))\n",
    "lst.setncatts({k: band1.getncattr(k) for k in band1.ncattrs()})\n",
    "lst.units = 'K'\n",
    "lst.long_name = 'average daily temperature'\n",
    "np.warnings.filterwarnings('ignore')\n",
    "lst[:] = [band1[:]]\n",
    "print(lst)\n",
    "print(type(band1[:]))\n",
    "print(lst[:])\n",
    "\n",
    "\n",
    "# Construct the grid\n",
    "meta = ds.GetMetadata()\n",
    "x0, xinc, _, y0, _, yinc = ds.GetGeoTransform()\n",
    "nx, ny = (ds.RasterXSize, ds.RasterYSize)\n",
    "x = np.linspace(x0, x0 + xinc*nx, nx)\n",
    "y = np.linspace(y0, y0 + yinc*ny, ny)\n",
    "xv, yv = np.meshgrid(x, y)\n",
    "\n",
    "# Reproject the coordinates out of lamaz into lat/lon.\n",
    "lamaz = pyproj.Proj(\"+proj=laea +lat_0=90 +lon_0=0 k=1 +x_0=0 +y_0= 0 +units=m +a=6371228.0 +b=6371228.0\")\n",
    "wgs84 = pyproj.Proj(\"+proj=longlat\") \n",
    "lon, lat= pyproj.transform(lamaz, wgs84, xv, yv)\n",
    "\n",
    "\n",
    "# x = np.array(converted_dataset.variables['x'][:])\n",
    "# y = np.array(converted_dataset.variables['y'][:])\n",
    "# xv, yv = np.meshgrid(x, y)\n",
    "# lamaz = pyproj.Proj(\"+proj=laea +lat_0=90 +lon_0=0 +units=m\")\n",
    "# wgs84 = pyproj.Proj(\"+init=EPSG:4326\") \n",
    "# lon, lat= pyproj.transform(lamaz, wgs84, xv, yv)\n",
    "\n",
    "var_lat = converted_dataset.createVariable('lat', 'f4', ('y','x'))\n",
    "var_lat.units = \"degree\" \n",
    "var_lat.long_name = 'Latitude. -90 to 90 deg.'\n",
    "    \n",
    "var_lon = converted_dataset.createVariable('lon', 'f4', ('y','x'))\n",
    "var_lon.units = \"degree\"\n",
    "var_lon.long_name = 'Longitude. -180 to 180 deg.'\n",
    "var_lon[:,:] = lon[:,:]\n",
    "var_lat[:,:] = lat[:,:]\n",
    "\n",
    "converted_dataset.close()"
   ]
  },
  {
   "cell_type": "code",
   "execution_count": 6,
   "metadata": {},
   "outputs": [
    {
     "data": {
      "text/plain": [
       "['Driver: GTiff/GeoTIFF',\n",
       " 'Files: UW_NA_LST_7.1.1_001_2008.10.1_0.0.0_2008.10.31_23.59.59_NA_001.tif',\n",
       " 'Size is 1299, 1956',\n",
       " 'Coordinate System is:',\n",
       " 'PROJCS[\"unnamed\",',\n",
       " '    GEOGCS[\"unknown\",',\n",
       " '        DATUM[\"unknown\",',\n",
       " '            SPHEROID[\"unnamed\",6371228,0]],',\n",
       " '        PRIMEM[\"Greenwich\",0],',\n",
       " '        UNIT[\"degree\",0.0174532925199433]],',\n",
       " '    PROJECTION[\"Lambert_Azimuthal_Equal_Area\"],',\n",
       " '    PARAMETER[\"latitude_of_center\",90],',\n",
       " '    PARAMETER[\"longitude_of_center\",0],',\n",
       " '    PARAMETER[\"false_easting\",0],',\n",
       " '    PARAMETER[\"false_northing\",0],',\n",
       " '    UNIT[\"metre\",1,',\n",
       " '        AUTHORITY[\"EPSG\",\"9001\"]]]',\n",
       " 'Origin = (-5386000.000000000931323,470999.999999999534339)',\n",
       " 'Pixel Size = (1000.000000000000000,-1000.000000000000000)',\n",
       " 'Metadata:',\n",
       " '  AREA_OR_POINT=Area',\n",
       " '  TIFFTAG_DATETIME=2018:02:13 13:18:46',\n",
       " '  TIFFTAG_DOCUMENTNAME=C:\\\\Users\\\\h2kheyro\\\\Documents\\\\Data_Analysis\\\\Great Lakes\\\\LST\\\\MonthlyAve2/UW_NA_LST_7.1.1_001_2008.10.1_0.0.0_2008.10.31_23.59.59_NA_001.tif',\n",
       " '  TIFFTAG_IMAGEDESCRIPTION=IDL TIFF file',\n",
       " '  TIFFTAG_RESOLUTIONUNIT=2 (pixels/inch)',\n",
       " '  TIFFTAG_SOFTWARE=IDL 7.1.2, ITT Visual Information Solutions',\n",
       " '  TIFFTAG_XRESOLUTION=100',\n",
       " '  TIFFTAG_YRESOLUTION=100',\n",
       " 'Image Structure Metadata:',\n",
       " '  INTERLEAVE=BAND',\n",
       " 'Corner Coordinates:',\n",
       " 'Upper Left  (-5386000.000,  471000.000) ( 94d59\\'51.87\"W, 39d47\\'16.65\"N)',\n",
       " 'Lower Left  (-5386000.000,-1485000.000) ( 74d35\\' 8.45\"W, 37d59\\'22.40\"N)',\n",
       " 'Upper Right (-4087000.000,  471000.000) ( 96d34\\'26.27\"W, 52d19\\'40.27\"N)',\n",
       " 'Lower Right (-4087000.000,-1485000.000) ( 70d 1\\'53.50\"W, 50d 5\\'35.94\"N)',\n",
       " 'Center      (-4736500.000, -507000.000) ( 83d53\\'24.95\"W, 46d 5\\'43.89\"N)',\n",
       " 'Band 1 Block=1299x1 Type=Float32, ColorInterp=Gray',\n",
       " '']"
      ]
     },
     "execution_count": 6,
     "metadata": {},
     "output_type": "execute_result"
    }
   ],
   "source": [
    "gdal.Info(\"UW_NA_LST_7.1.1_001_2008.10.1_0.0.0_2008.10.31_23.59.59_NA_001.tif\").split('\\n')"
   ]
  },
  {
   "cell_type": "code",
   "execution_count": 26,
   "metadata": {},
   "outputs": [
    {
     "data": {
      "text/plain": [
       "array([[39.78795855, 39.79785935, 39.80775974, ..., 52.30895897,\n",
       "        52.31840596, 52.32785266],\n",
       "       [39.78882324, 39.79872417, 39.80862469, ..., 52.31004574,\n",
       "        52.31949296, 52.32893989],\n",
       "       [39.78968611, 39.79958716, 39.8094878 , ..., 52.31113022,\n",
       "        52.32057767, 52.33002483],\n",
       "       ...,\n",
       "       [37.99487439, 38.00452829, 38.01418167, ..., 50.08184865,\n",
       "        50.09084961, 50.09985005],\n",
       "       [37.99221602, 38.00186957, 38.0115226 , ..., 50.07858395,\n",
       "        50.08758429, 50.09658412],\n",
       "       [37.98955595, 37.99920915, 38.00886183, ..., 50.07531726,\n",
       "        50.08431699, 50.09331621]])"
      ]
     },
     "execution_count": 26,
     "metadata": {},
     "output_type": "execute_result"
    }
   ],
   "source": [
    "# http://hdfeos.org/zoo/NSIDC/MYD29P1D_A2010133_h11v05_005_2010135032246_1km_Sea_Ice_by_Refl.py\n",
    "\n",
    "ds = gdal.Open(\"UW_NA_LST_7.1.1_001_2008.10.1_0.0.0_2008.10.31_23.59.59_NA_001.tif\")\n",
    "data = ds.ReadAsArray()\n",
    "\n",
    "# Construct the grid\n",
    "meta = ds.GetMetadata()\n",
    "x0, xinc, _, y0, _, yinc = ds.GetGeoTransform()\n",
    "nx, ny = (ds.RasterXSize, ds.RasterYSize)\n",
    "x = np.linspace(x0, x0 + xinc*nx, nx)\n",
    "y = np.linspace(y0, y0 + yinc*ny, ny)\n",
    "xv, yv = np.meshgrid(x, y)\n",
    "\n",
    "# Reproject the coordinates out of lamaz into lat/lon.\n",
    "lamaz = pyproj.Proj(\"+proj=laea +a=6371228 +lat_0=90 +lon_0=0 +units=m\")\n",
    "wgs84 = pyproj.Proj(\"+init=EPSG:4326\") \n",
    "lon, lat= pyproj.transform(lamaz, wgs84, xv, yv)\n"
   ]
  },
  {
   "cell_type": "code",
   "execution_count": 8,
   "metadata": {},
   "outputs": [
    {
     "data": {
      "text/plain": [
       "['Driver: GTiff/GeoTIFF',\n",
       " 'Files: outfile.tif',\n",
       " 'Size is 2307, 1269',\n",
       " 'Coordinate System is:',\n",
       " 'GEOGCS[\"WGS 84\",',\n",
       " '    DATUM[\"unknown\",',\n",
       " '        SPHEROID[\"WGS84\",6378137,298.257223563]],',\n",
       " '    PRIMEM[\"Greenwich\",0],',\n",
       " '    UNIT[\"degree\",0.0174532925199433]]',\n",
       " 'Origin = (-96.573962888870696,52.584333014393735)',\n",
       " 'Pixel Size = (0.011502944238810,-0.011502944238810)',\n",
       " 'Metadata:',\n",
       " '  AREA_OR_POINT=Area',\n",
       " '  TIFFTAG_DATETIME=2018:02:13 13:18:46',\n",
       " '  TIFFTAG_DOCUMENTNAME=C:\\\\Users\\\\h2kheyro\\\\Documents\\\\Data_Analysis\\\\Great Lakes\\\\LST\\\\MonthlyAve2/UW_NA_LST_7.1.1_001_2008.10.1_0.0.0_2008.10.31_23.59.59_NA_001.tif',\n",
       " '  TIFFTAG_IMAGEDESCRIPTION=IDL TIFF file',\n",
       " '  TIFFTAG_RESOLUTIONUNIT=2 (pixels/inch)',\n",
       " '  TIFFTAG_SOFTWARE=IDL 7.1.2, ITT Visual Information Solutions',\n",
       " '  TIFFTAG_XRESOLUTION=100',\n",
       " '  TIFFTAG_YRESOLUTION=100',\n",
       " 'Image Structure Metadata:',\n",
       " '  INTERLEAVE=BAND',\n",
       " 'Corner Coordinates:',\n",
       " 'Upper Left  ( -96.5739629,  52.5843330) ( 96d34\\'26.27\"W, 52d35\\' 3.60\"N)',\n",
       " 'Lower Left  ( -96.5739629,  37.9870968) ( 96d34\\'26.27\"W, 37d59\\'13.55\"N)',\n",
       " 'Upper Right ( -70.0366705,  52.5843330) ( 70d 2\\'12.01\"W, 52d35\\' 3.60\"N)',\n",
       " 'Lower Right ( -70.0366705,  37.9870968) ( 70d 2\\'12.01\"W, 37d59\\'13.55\"N)',\n",
       " 'Center      ( -83.3053167,  45.2857149) ( 83d18\\'19.14\"W, 45d17\\' 8.57\"N)',\n",
       " 'Band 1 Block=2307x1 Type=Float32, ColorInterp=Gray',\n",
       " '']"
      ]
     },
     "execution_count": 8,
     "metadata": {},
     "output_type": "execute_result"
    }
   ],
   "source": [
    "gdal.Info(\"outfile.tif\").split(\"\\n\")"
   ]
  },
  {
   "cell_type": "code",
   "execution_count": 29,
   "metadata": {},
   "outputs": [
    {
     "data": {
      "text/plain": [
       "array([[[-68.17999268, -68.17999268, -68.17999268, ..., -68.17999268,\n",
       "         -68.17999268, -68.17999268],\n",
       "        [-66.97998047, -66.92999268, -66.87997437, ..., -66.79998779,\n",
       "         -66.87997437, -66.94998169],\n",
       "        [-63.87997437, -63.07998657, -62.19998169, ..., -65.47998047,\n",
       "         -65.08999634, -64.52999878],\n",
       "        ..., \n",
       "        [-50.72998047, -50.57998657, -50.42999268, ..., -50.97998047,\n",
       "         -50.92999268, -50.87997437],\n",
       "        [-51.57998657, -51.54998779, -51.5       , ..., -51.62997437,\n",
       "         -51.60998535, -51.60998535],\n",
       "        [-52.62997437, -52.62997437, -52.62997437, ..., -52.62997437,\n",
       "         -52.62997437, -52.62997437]],\n",
       "\n",
       "       [[-68.04000854, -68.04000854, -68.04000854, ..., -68.04000854,\n",
       "         -68.04000854, -68.04000854],\n",
       "        [-70.92999268, -71.07998657, -71.20001221, ..., -70.48001099,\n",
       "         -70.63000488, -70.79000854],\n",
       "        [-62.07998657, -61.3500061 , -60.67999268, ..., -64.02999878,\n",
       "         -63.42999268, -62.75      ],\n",
       "        ..., \n",
       "        [-52.1499939 , -52.20001221, -52.25      , ..., -52.        ,\n",
       "         -52.07998657, -52.13000488],\n",
       "        [-56.23001099, -56.27999878, -56.32998657, ..., -56.07998657,\n",
       "         -56.13000488, -56.20001221],\n",
       "        [-55.8500061 , -55.8500061 , -55.8500061 , ..., -55.8500061 ,\n",
       "         -55.8500061 , -55.8500061 ]],\n",
       "\n",
       "       [[-63.8999939 , -63.8999939 , -63.8999939 , ..., -63.8999939 ,\n",
       "         -63.8999939 , -63.8999939 ],\n",
       "        [-62.3999939 , -62.51000977, -62.67001343, ..., -62.04998779,\n",
       "         -62.17001343, -62.26000977],\n",
       "        [-54.8500061 , -54.29998779, -53.79998779, ..., -56.26000977,\n",
       "         -55.82000732, -55.3500061 ],\n",
       "        ..., \n",
       "        [-49.75      , -49.8500061 , -50.        , ..., -49.42001343,\n",
       "         -49.54998779, -49.67001343],\n",
       "        [-53.54998779, -53.70001221, -53.8500061 , ..., -53.1000061 ,\n",
       "         -53.22000122, -53.42001343],\n",
       "        [-54.        , -54.        , -54.        , ..., -54.        ,\n",
       "         -54.        , -54.        ]],\n",
       "\n",
       "       ..., \n",
       "       [[-59.47998047, -59.47998047, -59.47998047, ..., -59.47998047,\n",
       "         -59.47998047, -59.47998047],\n",
       "        [-57.12997437, -56.74996948, -56.3999939 , ..., -58.19998169,\n",
       "         -57.84997559, -57.47998047],\n",
       "        [-49.87997437, -48.74996948, -47.54998779, ..., -53.22998047,\n",
       "         -52.1499939 , -51.04998779],\n",
       "        ..., \n",
       "        [-44.76998901, -44.79998779, -44.82998657, ..., -44.57998657,\n",
       "         -44.67999268, -44.72998047],\n",
       "        [-45.8999939 , -45.94998169, -46.01998901, ..., -45.72998047,\n",
       "         -45.79998779, -45.84997559],\n",
       "        [-51.32998657, -51.32998657, -51.32998657, ..., -51.32998657,\n",
       "         -51.32998657, -51.32998657]],\n",
       "\n",
       "       [[-49.40002441, -49.40002441, -49.40002441, ..., -49.40002441,\n",
       "         -49.40002441, -49.40002441],\n",
       "        [-40.07000732, -40.11999512, -40.22003174, ..., -40.07000732,\n",
       "         -40.05001831, -40.05001831],\n",
       "        [-38.67001343, -38.27001953, -37.90002441, ..., -39.86999512,\n",
       "         -39.47003174, -39.07000732],\n",
       "        ..., \n",
       "        [-45.67001343, -45.80001831, -45.97000122, ..., -45.07000732,\n",
       "         -45.30001831, -45.52001953],\n",
       "        [-46.70001221, -46.82000732, -46.92001343, ..., -46.3500061 ,\n",
       "         -46.45001221, -46.57000732],\n",
       "        [-52.47000122, -52.47000122, -52.47000122, ..., -52.47000122,\n",
       "         -52.47000122, -52.47000122]],\n",
       "\n",
       "       [[-41.4699707 , -41.4699707 , -41.4699707 , ..., -41.4699707 ,\n",
       "         -41.4699707 , -41.4699707 ],\n",
       "        [-40.8999939 , -40.45001221, -39.9699707 , ..., -42.25      ,\n",
       "         -41.79998779, -41.33999634],\n",
       "        [-44.11999512, -42.7199707 , -41.32000732, ..., -48.22000122,\n",
       "         -46.91998291, -45.54998779],\n",
       "        ..., \n",
       "        [-45.36999512, -45.41998291, -45.54998779, ..., -45.1499939 ,\n",
       "         -45.25      , -45.31997681],\n",
       "        [-46.69998169, -46.75      , -46.79998779, ..., -46.51998901,\n",
       "         -46.54998779, -46.61999512],\n",
       "        [-50.94998169, -50.94998169, -50.94998169, ..., -50.94998169,\n",
       "         -50.94998169, -50.94998169]]])"
      ]
     },
     "execution_count": 29,
     "metadata": {},
     "output_type": "execute_result"
    }
   ],
   "source": [
    "ds_example = netCDF4.Dataset(\"/home/l8tan/Downloads/air.departure.sig995.2012.nc\")\n",
    "ds_example.variables[\"air_dep\"][:]"
   ]
  },
  {
   "cell_type": "code",
   "execution_count": 2,
   "metadata": {},
   "outputs": [
    {
     "data": {
      "text/plain": [
       "2020200"
      ]
     },
     "execution_count": 2,
     "metadata": {},
     "output_type": "execute_result"
    }
   ],
   "source": [
    "int(gdal.VersionInfo('VERSION_NUM'))"
   ]
  },
  {
   "cell_type": "code",
   "execution_count": 6,
   "metadata": {},
   "outputs": [],
   "source": [
    "ds = gdal.Open('UW_NA_LST_7.1.1_001_2008.10.1_0.0.0_2008.10.31_23.59.59_NA_001.tif')"
   ]
  },
  {
   "cell_type": "code",
   "execution_count": 17,
   "metadata": {},
   "outputs": [
    {
     "data": {
      "text/plain": [
       "<osgeo.gdal.Dataset; proxy of <Swig Object of type 'GDALDatasetShadow *' at 0x7f7cfea5e1e0> >"
      ]
     },
     "execution_count": 17,
     "metadata": {},
     "output_type": "execute_result"
    }
   ],
   "source": [
    "ds"
   ]
  },
  {
   "cell_type": "code",
   "execution_count": 3,
   "metadata": {},
   "outputs": [
    {
     "name": "stdout",
     "output_type": "stream",
     "text": [
      "Help on function Translate in module osgeo.gdal:\n",
      "\n",
      "Translate(destName, srcDS, **kwargs)\n",
      "    Convert a dataset.\n",
      "    Arguments are :\n",
      "      destName --- Output dataset name\n",
      "      srcDS --- a Dataset object or a filename\n",
      "    Keyword arguments are :\n",
      "      options --- return of gdal.TranslateOptions(), string or array of strings\n",
      "      other keywords arguments of gdal.TranslateOptions()\n",
      "    If options is provided as a gdal.TranslateOptions() object, other keywords are ignored.\n",
      "\n"
     ]
    }
   ],
   "source": [
    "help(gdal.Translate)"
   ]
  },
  {
   "cell_type": "code",
   "execution_count": 7,
   "metadata": {},
   "outputs": [
    {
     "data": {
      "text/plain": [
       "<osgeo.gdal.Dataset; proxy of <Swig Object of type 'GDALDatasetShadow *' at 0x7ffba9be2630> >"
      ]
     },
     "execution_count": 7,
     "metadata": {},
     "output_type": "execute_result"
    }
   ],
   "source": [
    "gdal.Translate('test_2.nc', ds, format='NetCDF')"
   ]
  },
  {
   "cell_type": "code",
   "execution_count": 4,
   "metadata": {},
   "outputs": [
    {
     "name": "stdout",
     "output_type": "stream",
     "text": [
      "Help on function TranslateOptions in module osgeo.gdal:\n",
      "\n",
      "TranslateOptions(options=[], format='GTiff', outputType=0, bandList=None, maskBand=None, width=0, height=0, widthPct=0.0, heightPct=0.0, xRes=0.0, yRes=0.0, creationOptions=None, srcWin=None, projWin=None, projWinSRS=None, strict=False, unscale=False, scaleParams=None, exponents=None, outputBounds=None, metadataOptions=None, outputSRS=None, GCPs=None, noData=None, rgbExpand=None, stats=False, rat=True, resampleAlg=None, callback=None, callback_data=None)\n",
      "    Create a TranslateOptions() object that can be passed to gdal.Translate()\n",
      "    Keyword arguments are :\n",
      "      options --- can be be an array of strings, a string or let empty and filled from other keywords.\n",
      "      format --- output format (\"GTiff\", etc...)\n",
      "      outputType --- output type (gdal.GDT_Byte, etc...)\n",
      "      bandList --- array of band numbers (index start at 1)\n",
      "      maskBand --- mask band to generate or not (\"none\", \"auto\", \"mask\", 1, ...)\n",
      "      width --- width of the output raster in pixel\n",
      "      height --- height of the output raster in pixel\n",
      "      widthPct --- width of the output raster in percentage (100 = original width)\n",
      "      heightPct --- height of the output raster in percentage (100 = original height)\n",
      "      xRes --- output horizontal resolution\n",
      "      yRes --- output vertical resolution\n",
      "      creationOptions --- list of creation options\n",
      "      srcWin --- subwindow in pixels to extract: [left_x, top_y, width, height]\n",
      "      projWin --- subwindow in projected coordinates to extract: [ulx, uly, lrx, lry]\n",
      "      projWinSRS --- SRS in which projWin is expressed\n",
      "      strict --- strict mode\n",
      "      unscale --- unscale values with scale and offset metadata\n",
      "      scaleParams --- list of scale parameters, each of the form [src_min,src_max] or [src_min,src_max,dst_min,dst_max]\n",
      "      exponents --- list of exponentiation parameters\n",
      "      outputBounds --- assigned output bounds: [ulx, uly, lrx, lry]\n",
      "      metadataOptions --- list of metadata options\n",
      "      outputSRS --- assigned output SRS\n",
      "      GCPs --- list of GCPs\n",
      "      noData --- nodata value (or \"none\" to unset it)\n",
      "      rgbExpand --- Color palette expansion mode: \"gray\", \"rgb\", \"rgba\"\n",
      "      stats --- whether to calculate statistics\n",
      "      rat --- whether to write source RAT\n",
      "      resampleAlg --- resampling mode\n",
      "      callback --- callback method\n",
      "      callback_data --- user data for callback\n",
      "\n"
     ]
    }
   ],
   "source": [
    "help(gdal.TranslateOptions)"
   ]
  },
  {
   "cell_type": "code",
   "execution_count": 27,
   "metadata": {},
   "outputs": [
    {
     "name": "stdout",
     "output_type": "stream",
     "text": [
      "<class 'netCDF4._netCDF4.Dataset'>\n",
      "root group (NETCDF3_CLASSIC data model, file format NETCDF3):\n",
      "    GDAL_AREA_OR_POINT: Area\n",
      "    GDAL_TIFFTAG_DATETIME: 2018:02:13 13:18:46\n",
      "    GDAL_TIFFTAG_DOCUMENTNAME: C:\\Users\\h2kheyro\\Documents\\Data_Analysis\\Great Lakes\\LST\\MonthlyAve2/UW_NA_LST_7.1.1_001_2008.10.1_0.0.0_2008.10.31_23.59.59_NA_001.tif\n",
      "    GDAL_TIFFTAG_IMAGEDESCRIPTION: IDL TIFF file\n",
      "    GDAL_TIFFTAG_RESOLUTIONUNIT: 2 (pixels/inch)\n",
      "    GDAL_TIFFTAG_SOFTWARE: IDL 7.1.2, ITT Visual Information Solutions\n",
      "    GDAL_TIFFTAG_XRESOLUTION: 100\n",
      "    GDAL_TIFFTAG_YRESOLUTION: 100\n",
      "    Conventions: CF-1.5\n",
      "    GDAL: GDAL 1.11.3, released 2015/09/16\n",
      "    history: Mon Mar 05 16:27:26 2018: GDAL CreateCopy( test.nc, ... )\n",
      "    dimensions(sizes): rlon(1299), rlat(1956), time(0)\n",
      "    variables(dimensions): |S1 \u001b[4mrotated_pole\u001b[0m(), float64 \u001b[4mlon\u001b[0m(rlon), float64 \u001b[4mlat\u001b[0m(rlat), float32 \u001b[4mCaLDAS_*\u001b[0m(rlat,rlon)\n",
      "    groups: \n",
      "\n",
      "<class 'netCDF4._netCDF4.Dataset'>\n",
      "root group (NETCDF3_CLASSIC data model, file format NETCDF3):\n",
      "    GDAL_AREA_OR_POINT: Area\n",
      "    GDAL_TIFFTAG_DATETIME: 2018:02:13 13:18:46\n",
      "    GDAL_TIFFTAG_DOCUMENTNAME: C:\\Users\\h2kheyro\\Documents\\Data_Analysis\\Great Lakes\\LST\\MonthlyAve2/UW_NA_LST_7.1.1_001_2008.10.1_0.0.0_2008.10.31_23.59.59_NA_001.tif\n",
      "    GDAL_TIFFTAG_IMAGEDESCRIPTION: IDL TIFF file\n",
      "    GDAL_TIFFTAG_RESOLUTIONUNIT: 2 (pixels/inch)\n",
      "    GDAL_TIFFTAG_SOFTWARE: IDL 7.1.2, ITT Visual Information Solutions\n",
      "    GDAL_TIFFTAG_XRESOLUTION: 100\n",
      "    GDAL_TIFFTAG_YRESOLUTION: 100\n",
      "    Conventions: CF-1.5\n",
      "    GDAL: GDAL 1.11.3, released 2015/09/16\n",
      "    history: Mon Mar 05 16:27:26 2018: GDAL CreateCopy( test.nc, ... )\n",
      "    dimensions(sizes): rlon(1299), rlat(1956), time(0)\n",
      "    variables(dimensions): |S1 \u001b[4mrotated_pole\u001b[0m(), float64 \u001b[4mlon\u001b[0m(rlon), float64 \u001b[4mlat\u001b[0m(rlat), float32 \u001b[4mCaLDAS_*\u001b[0m(rlat,rlon), float64 \u001b[4mtime\u001b[0m(time)\n",
      "    groups: \n",
      "\n"
     ]
    }
   ],
   "source": [
    "import netCDF4\n",
    "f = netCDF4.Dataset('test.nc', 'r+')\n",
    "print(f)\n",
    "#f.createDimension('time', None)\n",
    "#f.renameDimension('x', 'rlon')\n",
    "#f.renameDimension('y', 'rlat')\n",
    "# f.renameVariable('x', 'lon')\n",
    "# f.renameVariable('y', 'lat')\n",
    "# f.renameVariable('Band1', 'CaLDAS_*')\n",
    "#f.renameVariable('lambert_azimuthal_equal_area', 'rotated_pole')\n",
    "times = f.createVariable('time', float, ('time', ))\n",
    "times.units = \"days since 0001-01-01 00:00:00\"\n",
    "times.calendar = 'gregorian'\n",
    "print(f)\n",
    "f.close()"
   ]
  },
  {
   "cell_type": "code",
   "execution_count": 18,
   "metadata": {},
   "outputs": [
    {
     "data": {
      "text/plain": [
       "(1956, 1299)"
      ]
     },
     "execution_count": 18,
     "metadata": {},
     "output_type": "execute_result"
    }
   ],
   "source": [
    "a = ds.ReadAsArray()\n",
    "np.shape(a)"
   ]
  },
  {
   "cell_type": "code",
   "execution_count": 6,
   "metadata": {},
   "outputs": [
    {
     "data": {
      "text/plain": [
       "(-5386000.000000001, 1000.0, 0.0, 470999.99999999953, 0.0, -1000.0)"
      ]
     },
     "execution_count": 6,
     "metadata": {},
     "output_type": "execute_result"
    }
   ],
   "source": [
    "ds.GetGeoTransform()"
   ]
  },
  {
   "cell_type": "code",
   "execution_count": 7,
   "metadata": {},
   "outputs": [
    {
     "data": {
      "text/plain": [
       "<osgeo.gdal.Driver; proxy of <Swig Object of type 'GDALDriverShadow *' at 0x7f7d3c20ca80> >"
      ]
     },
     "execution_count": 7,
     "metadata": {},
     "output_type": "execute_result"
    }
   ],
   "source": [
    "gdal.GetDriverByName(\"GTiff\")"
   ]
  },
  {
   "cell_type": "code",
   "execution_count": 11,
   "metadata": {},
   "outputs": [
    {
     "name": "stdout",
     "output_type": "stream",
     "text": [
      "Help on function Open in module osgeo.gdal:\n",
      "\n",
      "Open(*args)\n",
      "    Open(char const * utf8_path, GDALAccess eAccess) -> Dataset\n",
      "\n"
     ]
    }
   ],
   "source": [
    "help(gdal.Open)"
   ]
  },
  {
   "cell_type": "code",
   "execution_count": 12,
   "metadata": {},
   "outputs": [
    {
     "ename": "AttributeError",
     "evalue": "module 'osgeo.gdal' has no attribute 'Translate'",
     "output_type": "error",
     "traceback": [
      "\u001b[0;31m---------------------------------------------------------------------------\u001b[0m",
      "\u001b[0;31mAttributeError\u001b[0m                            Traceback (most recent call last)",
      "\u001b[0;32m<ipython-input-12-19a445c3dc75>\u001b[0m in \u001b[0;36m<module>\u001b[0;34m()\u001b[0m\n\u001b[0;32m----> 1\u001b[0;31m \u001b[0mhelp\u001b[0m\u001b[0;34m(\u001b[0m\u001b[0mgdal\u001b[0m\u001b[0;34m.\u001b[0m\u001b[0mTranslate\u001b[0m\u001b[0;34m)\u001b[0m\u001b[0;34m\u001b[0m\u001b[0m\n\u001b[0m",
      "\u001b[0;31mAttributeError\u001b[0m: module 'osgeo.gdal' has no attribute 'Translate'"
     ]
    }
   ],
   "source": [
    "help(gdal.Translate)"
   ]
  },
  {
   "cell_type": "markdown",
   "metadata": {},
   "source": [
    "https://stackoverflow.com/questions/33807774/package-a-timeseries-of-geotiff-rasters-as-a-single-netcdf-file\n",
    "\n",
    "https://stackoverflow.com/questions/46899337/convert-raster-time-series-of-multiple-geotiff-images-to-netcdf\n",
    "\n",
    "\n",
    "https://gis.stackexchange.com/questions/176990/write-stacks-of-geotiff-image-to-netcdf-by-chunk-size\n",
    "\n",
    "https://gis.stackexchange.com/questions/70458/convert-timeseries-stack-of-gtiff-raster-to-single-netcdf"
   ]
  },
  {
   "cell_type": "code",
   "execution_count": null,
   "metadata": {},
   "outputs": [],
   "source": [
    "import numpy as np\n",
    "import datetime as dt\n",
    "import os\n",
    "import gdal\n",
    "import netCDF4\n",
    "import re\n",
    "\n",
    "ds = gdal.Open('/data_sample/R20060111_075725___SIG0__ASAWS___M1VVD_TUW_SGRT15A00_AF075M_E060N054T6.tif')\n",
    "\n",
    "a = ds.ReadAsArray()\n",
    "nlat, nlon = np.shape(a)\n",
    "\n",
    "b = ds.GetGeoTransform()  # bbox, interval\n",
    "lon = np.arange(nlon)*b[1]+b[0]\n",
    "lat = np.arange(nlat)*b[5]+b[3]\n",
    "\n",
    "basedate = dt.datetime(2006, 01, 11, 0, 0, 0)\n",
    "\n",
    "# Create NetCDF file\n",
    "nco = netCDF4.Dataset('time_series.nc', 'w', clobber=True)\n",
    "\n",
    "chunk_lon = 16\n",
    "chunk_lat = 16\n",
    "chunk_time = 12\n",
    "\n",
    "# Create dimensions, variables and attributes:\n",
    "nco.createDimension('lon', nlon)\n",
    "nco.createDimension('lat', nlat)\n",
    "nco.createDimension('time', None)\n",
    "\n",
    "timeo = nco.createVariable('time', 'f4', ('time',))\n",
    "timeo.units = 'days since 2006-01-11 00:00:00'\n",
    "timeo.standard_name = 'time'\n",
    "\n",
    "lono = nco.createVariable('lon', 'f4', ('lon',))\n",
    "lono.standard_name = 'longitude'\n",
    "\n",
    "lato = nco.createVariable('lat', 'f4', ('lat',))\n",
    "lato.standard_name = 'latitude'\n",
    "\n",
    "# Create container variable for CRS: lon/lat WGS84 datum\n",
    "crso = nco.createVariable('crs', 'i4')\n",
    "crso.long_name = 'Lon/Lat Coords in WGS84'\n",
    "crso.grid_mapping_name = 'latitude_longitude'\n",
    "crso.longitude_of_prime_meridian = 0.0\n",
    "crso.semi_major_axis = 6378137.0\n",
    "crso.inverse_flattening = 298.257223563\n",
    "\n",
    "# Create short integer variable for temperature data, with chunking\n",
    "tmno = nco.createVariable('tmn', 'i2',  ('time', 'lat', 'lon'),\n",
    "                          zlib=True, chunksizes=[chunk_time,\n",
    "                                                 chunk_lat,\n",
    "                                                 chunk_lon],\n",
    "                          fill_value=-9999)\n",
    "tmno.units = 'degC'\n",
    "tmno.scale_factor = 0.01\n",
    "tmno.add_offset = 0.00\n",
    "tmno.long_name = 'minimum monthly temperature'\n",
    "tmno.standard_name = 'air_temperature'\n",
    "tmno.grid_mapping = 'crs'\n",
    "tmno.set_auto_maskandscale(False)\n",
    "\n",
    "nco.Conventions = 'CF-1.6'\n",
    "\n",
    "# Write lon,lat\n",
    "lono[:] = lon\n",
    "lato[:] = lat\n",
    "\n",
    "pat = re.compile('(\\w{1})(\\d{4})(\\d{2})(\\d{2})_\\d{6}')\n",
    "itime = 0\n",
    "\n",
    "# Step through data, writing time and data to NetCDF\n",
    "for root, dirs, files in os.walk('/data_sample/'):\n",
    "    dirs.sort()\n",
    "    files.sort()\n",
    "    for f in files:\n",
    "        if re.match(pat, f):\n",
    "            # read the time values by parsing the filename\n",
    "            year = int(f[4:8])\n",
    "            mon = int(f[8:10])\n",
    "            date = dt.datetime(year, mon, 1, 0, 0, 0)\n",
    "            print(date)\n",
    "            dtime = (date-basedate).total_seconds()/86400.\n",
    "            timeo[itime] = dtime\n",
    "            # min temp\n",
    "            tmn_path = os.path.join(root, f)\n",
    "            print(tmn_path)\n",
    "            tmn = gdal.Open(tmn_path)\n",
    "            a = tmn.ReadAsArray()  # data\n",
    "            tmno[itime, :, :] = a\n",
    "            itime = itime+1\n",
    "\n",
    "nco.close()"
   ]
  },
  {
   "cell_type": "code",
   "execution_count": 1,
   "metadata": {},
   "outputs": [],
   "source": [
    "import gdal"
   ]
  },
  {
   "cell_type": "code",
   "execution_count": 4,
   "metadata": {},
   "outputs": [
    {
     "ename": "AttributeError",
     "evalue": "module 'gdal' has no attribute 'Translate'",
     "output_type": "error",
     "traceback": [
      "\u001b[0;31m---------------------------------------------------------------------------\u001b[0m",
      "\u001b[0;31mAttributeError\u001b[0m                            Traceback (most recent call last)",
      "\u001b[0;32m<ipython-input-4-19a445c3dc75>\u001b[0m in \u001b[0;36m<module>\u001b[0;34m()\u001b[0m\n\u001b[0;32m----> 1\u001b[0;31m \u001b[0mhelp\u001b[0m\u001b[0;34m(\u001b[0m\u001b[0mgdal\u001b[0m\u001b[0;34m.\u001b[0m\u001b[0mTranslate\u001b[0m\u001b[0;34m)\u001b[0m\u001b[0;34m\u001b[0m\u001b[0m\n\u001b[0m",
      "\u001b[0;31mAttributeError\u001b[0m: module 'gdal' has no attribute 'Translate'"
     ]
    }
   ],
   "source": [
    "help(gdal.TranslateOption)"
   ]
  },
  {
   "cell_type": "code",
   "execution_count": null,
   "metadata": {},
   "outputs": [],
   "source": []
  }
 ],
 "metadata": {
  "kernelspec": {
   "display_name": "Python 3",
   "language": "python",
   "name": "python3"
  },
  "language_info": {
   "codemirror_mode": {
    "name": "ipython",
    "version": 3
   },
   "file_extension": ".py",
   "mimetype": "text/x-python",
   "name": "python",
   "nbconvert_exporter": "python",
   "pygments_lexer": "ipython3",
   "version": "3.5.2"
  }
 },
 "nbformat": 4,
 "nbformat_minor": 2
}
